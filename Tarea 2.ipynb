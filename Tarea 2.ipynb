{
 "cells": [
  {
   "cell_type": "code",
   "execution_count": 1,
   "metadata": {
    "ExecuteTime": {
     "end_time": "2019-02-14T01:06:39.810914Z",
     "start_time": "2019-02-14T01:06:30.673645Z"
    },
    "collapsed": true
   },
   "outputs": [],
   "source": [
    "import matplotlib.pyplot as plt\n",
    "import pandas as pd\n",
    "import numpy as np\n",
    "import warnings as warn\n",
    "warn.filterwarnings('ignore')\n",
    "from IPython.display import Markdown as Md, display as disp\n",
    "def printmd(string, color='#ce00ce'):\n",
    "    ccc = \"<span style='color:{}'>{}</span>\".format(color, string)\n",
    "    disp(Md(ccc))"
   ]
  },
  {
   "cell_type": "code",
   "execution_count": 2,
   "metadata": {
    "ExecuteTime": {
     "end_time": "2019-02-14T02:06:18.559161Z",
     "start_time": "2019-02-14T02:06:18.289169Z"
    },
    "collapsed": true
   },
   "outputs": [],
   "source": [
    "from sklearn.tree import DecisionTreeClassifier as DTC, DecisionTreeRegressor as DTR\n",
    "from sklearn.metrics import confusion_matrix, f1_score\n",
    "from sklearn.model_selection import train_test_split, GridSearchCV"
   ]
  },
  {
   "cell_type": "code",
   "execution_count": 3,
   "metadata": {},
   "outputs": [
    {
     "data": {
      "text/html": [
       "<div>\n",
       "<style scoped>\n",
       "    .dataframe tbody tr th:only-of-type {\n",
       "        vertical-align: middle;\n",
       "    }\n",
       "\n",
       "    .dataframe tbody tr th {\n",
       "        vertical-align: top;\n",
       "    }\n",
       "\n",
       "    .dataframe thead th {\n",
       "        text-align: right;\n",
       "    }\n",
       "</style>\n",
       "<table border=\"1\" class=\"dataframe\">\n",
       "  <thead>\n",
       "    <tr style=\"text-align: right;\">\n",
       "      <th></th>\n",
       "      <th>age</th>\n",
       "      <th>job</th>\n",
       "      <th>marital</th>\n",
       "      <th>education</th>\n",
       "      <th>default</th>\n",
       "      <th>balance</th>\n",
       "      <th>housing</th>\n",
       "      <th>loan</th>\n",
       "      <th>contact</th>\n",
       "      <th>day</th>\n",
       "      <th>month</th>\n",
       "      <th>duration</th>\n",
       "      <th>campaign</th>\n",
       "      <th>pdays</th>\n",
       "      <th>previous</th>\n",
       "      <th>poutcome</th>\n",
       "      <th>y</th>\n",
       "    </tr>\n",
       "  </thead>\n",
       "  <tbody>\n",
       "    <tr>\n",
       "      <th>0</th>\n",
       "      <td>58</td>\n",
       "      <td>management</td>\n",
       "      <td>married</td>\n",
       "      <td>tertiary</td>\n",
       "      <td>0</td>\n",
       "      <td>2143</td>\n",
       "      <td>1</td>\n",
       "      <td>0</td>\n",
       "      <td>unknown</td>\n",
       "      <td>5</td>\n",
       "      <td>may</td>\n",
       "      <td>261</td>\n",
       "      <td>1</td>\n",
       "      <td>-1</td>\n",
       "      <td>0</td>\n",
       "      <td>unknown</td>\n",
       "      <td>0</td>\n",
       "    </tr>\n",
       "    <tr>\n",
       "      <th>1</th>\n",
       "      <td>44</td>\n",
       "      <td>technician</td>\n",
       "      <td>single</td>\n",
       "      <td>secondary</td>\n",
       "      <td>0</td>\n",
       "      <td>29</td>\n",
       "      <td>1</td>\n",
       "      <td>0</td>\n",
       "      <td>unknown</td>\n",
       "      <td>5</td>\n",
       "      <td>may</td>\n",
       "      <td>151</td>\n",
       "      <td>1</td>\n",
       "      <td>-1</td>\n",
       "      <td>0</td>\n",
       "      <td>unknown</td>\n",
       "      <td>0</td>\n",
       "    </tr>\n",
       "    <tr>\n",
       "      <th>2</th>\n",
       "      <td>33</td>\n",
       "      <td>entrepreneur</td>\n",
       "      <td>married</td>\n",
       "      <td>secondary</td>\n",
       "      <td>0</td>\n",
       "      <td>2</td>\n",
       "      <td>1</td>\n",
       "      <td>1</td>\n",
       "      <td>unknown</td>\n",
       "      <td>5</td>\n",
       "      <td>may</td>\n",
       "      <td>76</td>\n",
       "      <td>1</td>\n",
       "      <td>-1</td>\n",
       "      <td>0</td>\n",
       "      <td>unknown</td>\n",
       "      <td>0</td>\n",
       "    </tr>\n",
       "    <tr>\n",
       "      <th>3</th>\n",
       "      <td>47</td>\n",
       "      <td>blue-collar</td>\n",
       "      <td>married</td>\n",
       "      <td>unknown</td>\n",
       "      <td>0</td>\n",
       "      <td>1506</td>\n",
       "      <td>1</td>\n",
       "      <td>0</td>\n",
       "      <td>unknown</td>\n",
       "      <td>5</td>\n",
       "      <td>may</td>\n",
       "      <td>92</td>\n",
       "      <td>1</td>\n",
       "      <td>-1</td>\n",
       "      <td>0</td>\n",
       "      <td>unknown</td>\n",
       "      <td>0</td>\n",
       "    </tr>\n",
       "    <tr>\n",
       "      <th>4</th>\n",
       "      <td>33</td>\n",
       "      <td>unknown</td>\n",
       "      <td>single</td>\n",
       "      <td>unknown</td>\n",
       "      <td>0</td>\n",
       "      <td>1</td>\n",
       "      <td>0</td>\n",
       "      <td>0</td>\n",
       "      <td>unknown</td>\n",
       "      <td>5</td>\n",
       "      <td>may</td>\n",
       "      <td>198</td>\n",
       "      <td>1</td>\n",
       "      <td>-1</td>\n",
       "      <td>0</td>\n",
       "      <td>unknown</td>\n",
       "      <td>0</td>\n",
       "    </tr>\n",
       "  </tbody>\n",
       "</table>\n",
       "</div>"
      ],
      "text/plain": [
       "   age           job  marital  education  default  balance  housing  loan  \\\n",
       "0   58    management  married   tertiary        0     2143        1     0   \n",
       "1   44    technician   single  secondary        0       29        1     0   \n",
       "2   33  entrepreneur  married  secondary        0        2        1     1   \n",
       "3   47   blue-collar  married    unknown        0     1506        1     0   \n",
       "4   33       unknown   single    unknown        0        1        0     0   \n",
       "\n",
       "   contact  day month  duration  campaign  pdays  previous poutcome  y  \n",
       "0  unknown    5   may       261         1     -1         0  unknown  0  \n",
       "1  unknown    5   may       151         1     -1         0  unknown  0  \n",
       "2  unknown    5   may        76         1     -1         0  unknown  0  \n",
       "3  unknown    5   may        92         1     -1         0  unknown  0  \n",
       "4  unknown    5   may       198         1     -1         0  unknown  0  "
      ]
     },
     "execution_count": 3,
     "metadata": {},
     "output_type": "execute_result"
    }
   ],
   "source": [
    "bank = pd.read_csv('bank/bank-full.csv', sep=';')\n",
    "bank = bank.replace('yes', 1).replace('no', 0)\n",
    "bank.head()"
   ]
  },
  {
   "cell_type": "code",
   "execution_count": 4,
   "metadata": {},
   "outputs": [
    {
     "data": {
      "text/html": [
       "<div>\n",
       "<style scoped>\n",
       "    .dataframe tbody tr th:only-of-type {\n",
       "        vertical-align: middle;\n",
       "    }\n",
       "\n",
       "    .dataframe tbody tr th {\n",
       "        vertical-align: top;\n",
       "    }\n",
       "\n",
       "    .dataframe thead th {\n",
       "        text-align: right;\n",
       "    }\n",
       "</style>\n",
       "<table border=\"1\" class=\"dataframe\">\n",
       "  <thead>\n",
       "    <tr style=\"text-align: right;\">\n",
       "      <th></th>\n",
       "      <th>age</th>\n",
       "      <th>job</th>\n",
       "      <th>marital</th>\n",
       "      <th>education</th>\n",
       "      <th>default</th>\n",
       "      <th>balance</th>\n",
       "      <th>housing</th>\n",
       "      <th>loan</th>\n",
       "      <th>contact</th>\n",
       "      <th>day</th>\n",
       "      <th>duration</th>\n",
       "      <th>campaign</th>\n",
       "      <th>pdays</th>\n",
       "      <th>previous</th>\n",
       "      <th>poutcome</th>\n",
       "      <th>y</th>\n",
       "      <th>month_no</th>\n",
       "    </tr>\n",
       "  </thead>\n",
       "  <tbody>\n",
       "    <tr>\n",
       "      <th>0</th>\n",
       "      <td>58</td>\n",
       "      <td>management</td>\n",
       "      <td>married</td>\n",
       "      <td>tertiary</td>\n",
       "      <td>0</td>\n",
       "      <td>2143</td>\n",
       "      <td>1</td>\n",
       "      <td>0</td>\n",
       "      <td>unknown</td>\n",
       "      <td>5</td>\n",
       "      <td>261</td>\n",
       "      <td>1</td>\n",
       "      <td>-1</td>\n",
       "      <td>0</td>\n",
       "      <td>unknown</td>\n",
       "      <td>0</td>\n",
       "      <td>5</td>\n",
       "    </tr>\n",
       "    <tr>\n",
       "      <th>1</th>\n",
       "      <td>44</td>\n",
       "      <td>technician</td>\n",
       "      <td>single</td>\n",
       "      <td>secondary</td>\n",
       "      <td>0</td>\n",
       "      <td>29</td>\n",
       "      <td>1</td>\n",
       "      <td>0</td>\n",
       "      <td>unknown</td>\n",
       "      <td>5</td>\n",
       "      <td>151</td>\n",
       "      <td>1</td>\n",
       "      <td>-1</td>\n",
       "      <td>0</td>\n",
       "      <td>unknown</td>\n",
       "      <td>0</td>\n",
       "      <td>5</td>\n",
       "    </tr>\n",
       "    <tr>\n",
       "      <th>2</th>\n",
       "      <td>33</td>\n",
       "      <td>entrepreneur</td>\n",
       "      <td>married</td>\n",
       "      <td>secondary</td>\n",
       "      <td>0</td>\n",
       "      <td>2</td>\n",
       "      <td>1</td>\n",
       "      <td>1</td>\n",
       "      <td>unknown</td>\n",
       "      <td>5</td>\n",
       "      <td>76</td>\n",
       "      <td>1</td>\n",
       "      <td>-1</td>\n",
       "      <td>0</td>\n",
       "      <td>unknown</td>\n",
       "      <td>0</td>\n",
       "      <td>5</td>\n",
       "    </tr>\n",
       "    <tr>\n",
       "      <th>3</th>\n",
       "      <td>47</td>\n",
       "      <td>blue-collar</td>\n",
       "      <td>married</td>\n",
       "      <td>unknown</td>\n",
       "      <td>0</td>\n",
       "      <td>1506</td>\n",
       "      <td>1</td>\n",
       "      <td>0</td>\n",
       "      <td>unknown</td>\n",
       "      <td>5</td>\n",
       "      <td>92</td>\n",
       "      <td>1</td>\n",
       "      <td>-1</td>\n",
       "      <td>0</td>\n",
       "      <td>unknown</td>\n",
       "      <td>0</td>\n",
       "      <td>5</td>\n",
       "    </tr>\n",
       "    <tr>\n",
       "      <th>4</th>\n",
       "      <td>33</td>\n",
       "      <td>unknown</td>\n",
       "      <td>single</td>\n",
       "      <td>unknown</td>\n",
       "      <td>0</td>\n",
       "      <td>1</td>\n",
       "      <td>0</td>\n",
       "      <td>0</td>\n",
       "      <td>unknown</td>\n",
       "      <td>5</td>\n",
       "      <td>198</td>\n",
       "      <td>1</td>\n",
       "      <td>-1</td>\n",
       "      <td>0</td>\n",
       "      <td>unknown</td>\n",
       "      <td>0</td>\n",
       "      <td>5</td>\n",
       "    </tr>\n",
       "  </tbody>\n",
       "</table>\n",
       "</div>"
      ],
      "text/plain": [
       "   age           job  marital  education  default  balance  housing  loan  \\\n",
       "0   58    management  married   tertiary        0     2143        1     0   \n",
       "1   44    technician   single  secondary        0       29        1     0   \n",
       "2   33  entrepreneur  married  secondary        0        2        1     1   \n",
       "3   47   blue-collar  married    unknown        0     1506        1     0   \n",
       "4   33       unknown   single    unknown        0        1        0     0   \n",
       "\n",
       "   contact  day  duration  campaign  pdays  previous poutcome  y  month_no  \n",
       "0  unknown    5       261         1     -1         0  unknown  0         5  \n",
       "1  unknown    5       151         1     -1         0  unknown  0         5  \n",
       "2  unknown    5        76         1     -1         0  unknown  0         5  \n",
       "3  unknown    5        92         1     -1         0  unknown  0         5  \n",
       "4  unknown    5       198         1     -1         0  unknown  0         5  "
      ]
     },
     "execution_count": 4,
     "metadata": {},
     "output_type": "execute_result"
    }
   ],
   "source": [
    "months = pd.DataFrame({\n",
    "    'month': bank.month.sort_values().unique(),\n",
    "    'month_no': [4, 8, 12, 2, 1, 7, 6, 3, 5, 11, 10, 9]\n",
    "})\n",
    "bank = bank.merge(months).drop('month', axis=1)\n",
    "bank.head()"
   ]
  },
  {
   "cell_type": "code",
   "execution_count": 5,
   "metadata": {},
   "outputs": [
    {
     "data": {
      "text/html": [
       "<div>\n",
       "<style scoped>\n",
       "    .dataframe tbody tr th:only-of-type {\n",
       "        vertical-align: middle;\n",
       "    }\n",
       "\n",
       "    .dataframe tbody tr th {\n",
       "        vertical-align: top;\n",
       "    }\n",
       "\n",
       "    .dataframe thead th {\n",
       "        text-align: right;\n",
       "    }\n",
       "</style>\n",
       "<table border=\"1\" class=\"dataframe\">\n",
       "  <thead>\n",
       "    <tr style=\"text-align: right;\">\n",
       "      <th></th>\n",
       "      <th>age</th>\n",
       "      <th>job</th>\n",
       "      <th>marital</th>\n",
       "      <th>default</th>\n",
       "      <th>balance</th>\n",
       "      <th>housing</th>\n",
       "      <th>loan</th>\n",
       "      <th>contact</th>\n",
       "      <th>day</th>\n",
       "      <th>duration</th>\n",
       "      <th>campaign</th>\n",
       "      <th>pdays</th>\n",
       "      <th>previous</th>\n",
       "      <th>poutcome</th>\n",
       "      <th>y</th>\n",
       "      <th>month_no</th>\n",
       "      <th>edu</th>\n",
       "    </tr>\n",
       "  </thead>\n",
       "  <tbody>\n",
       "    <tr>\n",
       "      <th>0</th>\n",
       "      <td>58</td>\n",
       "      <td>management</td>\n",
       "      <td>married</td>\n",
       "      <td>0</td>\n",
       "      <td>2143</td>\n",
       "      <td>1</td>\n",
       "      <td>0</td>\n",
       "      <td>unknown</td>\n",
       "      <td>5</td>\n",
       "      <td>261</td>\n",
       "      <td>1</td>\n",
       "      <td>-1</td>\n",
       "      <td>0</td>\n",
       "      <td>unknown</td>\n",
       "      <td>0</td>\n",
       "      <td>5</td>\n",
       "      <td>1.0</td>\n",
       "    </tr>\n",
       "    <tr>\n",
       "      <th>1</th>\n",
       "      <td>35</td>\n",
       "      <td>management</td>\n",
       "      <td>married</td>\n",
       "      <td>0</td>\n",
       "      <td>231</td>\n",
       "      <td>1</td>\n",
       "      <td>0</td>\n",
       "      <td>unknown</td>\n",
       "      <td>5</td>\n",
       "      <td>139</td>\n",
       "      <td>1</td>\n",
       "      <td>-1</td>\n",
       "      <td>0</td>\n",
       "      <td>unknown</td>\n",
       "      <td>0</td>\n",
       "      <td>5</td>\n",
       "      <td>1.0</td>\n",
       "    </tr>\n",
       "    <tr>\n",
       "      <th>2</th>\n",
       "      <td>28</td>\n",
       "      <td>management</td>\n",
       "      <td>single</td>\n",
       "      <td>0</td>\n",
       "      <td>447</td>\n",
       "      <td>1</td>\n",
       "      <td>1</td>\n",
       "      <td>unknown</td>\n",
       "      <td>5</td>\n",
       "      <td>217</td>\n",
       "      <td>1</td>\n",
       "      <td>-1</td>\n",
       "      <td>0</td>\n",
       "      <td>unknown</td>\n",
       "      <td>0</td>\n",
       "      <td>5</td>\n",
       "      <td>1.0</td>\n",
       "    </tr>\n",
       "    <tr>\n",
       "      <th>3</th>\n",
       "      <td>42</td>\n",
       "      <td>entrepreneur</td>\n",
       "      <td>divorced</td>\n",
       "      <td>1</td>\n",
       "      <td>2</td>\n",
       "      <td>1</td>\n",
       "      <td>0</td>\n",
       "      <td>unknown</td>\n",
       "      <td>5</td>\n",
       "      <td>380</td>\n",
       "      <td>1</td>\n",
       "      <td>-1</td>\n",
       "      <td>0</td>\n",
       "      <td>unknown</td>\n",
       "      <td>0</td>\n",
       "      <td>5</td>\n",
       "      <td>1.0</td>\n",
       "    </tr>\n",
       "    <tr>\n",
       "      <th>4</th>\n",
       "      <td>56</td>\n",
       "      <td>management</td>\n",
       "      <td>married</td>\n",
       "      <td>0</td>\n",
       "      <td>779</td>\n",
       "      <td>1</td>\n",
       "      <td>0</td>\n",
       "      <td>unknown</td>\n",
       "      <td>5</td>\n",
       "      <td>164</td>\n",
       "      <td>1</td>\n",
       "      <td>-1</td>\n",
       "      <td>0</td>\n",
       "      <td>unknown</td>\n",
       "      <td>0</td>\n",
       "      <td>5</td>\n",
       "      <td>1.0</td>\n",
       "    </tr>\n",
       "  </tbody>\n",
       "</table>\n",
       "</div>"
      ],
      "text/plain": [
       "   age           job   marital  default  balance  housing  loan  contact  day  \\\n",
       "0   58    management   married        0     2143        1     0  unknown    5   \n",
       "1   35    management   married        0      231        1     0  unknown    5   \n",
       "2   28    management    single        0      447        1     1  unknown    5   \n",
       "3   42  entrepreneur  divorced        1        2        1     0  unknown    5   \n",
       "4   56    management   married        0      779        1     0  unknown    5   \n",
       "\n",
       "   duration  campaign  pdays  previous poutcome  y  month_no  edu  \n",
       "0       261         1     -1         0  unknown  0         5  1.0  \n",
       "1       139         1     -1         0  unknown  0         5  1.0  \n",
       "2       217         1     -1         0  unknown  0         5  1.0  \n",
       "3       380         1     -1         0  unknown  0         5  1.0  \n",
       "4       164         1     -1         0  unknown  0         5  1.0  "
      ]
     },
     "execution_count": 5,
     "metadata": {},
     "output_type": "execute_result"
    }
   ],
   "source": [
    "bank = bank.merge(pd.DataFrame({\n",
    "    'education': bank.education.unique(),\n",
    "    'edu': [1, 2, 3, np.nan]\n",
    "})).drop('education', axis=1)\n",
    "bank.head()"
   ]
  },
  {
   "cell_type": "code",
   "execution_count": 6,
   "metadata": {},
   "outputs": [
    {
     "data": {
      "text/html": [
       "<div>\n",
       "<style scoped>\n",
       "    .dataframe tbody tr th:only-of-type {\n",
       "        vertical-align: middle;\n",
       "    }\n",
       "\n",
       "    .dataframe tbody tr th {\n",
       "        vertical-align: top;\n",
       "    }\n",
       "\n",
       "    .dataframe thead th {\n",
       "        text-align: right;\n",
       "    }\n",
       "</style>\n",
       "<table border=\"1\" class=\"dataframe\">\n",
       "  <thead>\n",
       "    <tr style=\"text-align: right;\">\n",
       "      <th></th>\n",
       "      <th>age</th>\n",
       "      <th>marital</th>\n",
       "      <th>default</th>\n",
       "      <th>balance</th>\n",
       "      <th>housing</th>\n",
       "      <th>loan</th>\n",
       "      <th>contact</th>\n",
       "      <th>day</th>\n",
       "      <th>duration</th>\n",
       "      <th>campaign</th>\n",
       "      <th>pdays</th>\n",
       "      <th>previous</th>\n",
       "      <th>y</th>\n",
       "      <th>month_no</th>\n",
       "      <th>edu</th>\n",
       "      <th>prev_out</th>\n",
       "    </tr>\n",
       "  </thead>\n",
       "  <tbody>\n",
       "    <tr>\n",
       "      <th>0</th>\n",
       "      <td>58</td>\n",
       "      <td>married</td>\n",
       "      <td>0</td>\n",
       "      <td>2143</td>\n",
       "      <td>1</td>\n",
       "      <td>0</td>\n",
       "      <td>unknown</td>\n",
       "      <td>5</td>\n",
       "      <td>261</td>\n",
       "      <td>1</td>\n",
       "      <td>-1</td>\n",
       "      <td>0</td>\n",
       "      <td>0</td>\n",
       "      <td>5</td>\n",
       "      <td>1.0</td>\n",
       "      <td>0.0</td>\n",
       "    </tr>\n",
       "    <tr>\n",
       "      <th>1</th>\n",
       "      <td>35</td>\n",
       "      <td>married</td>\n",
       "      <td>0</td>\n",
       "      <td>231</td>\n",
       "      <td>1</td>\n",
       "      <td>0</td>\n",
       "      <td>unknown</td>\n",
       "      <td>5</td>\n",
       "      <td>139</td>\n",
       "      <td>1</td>\n",
       "      <td>-1</td>\n",
       "      <td>0</td>\n",
       "      <td>0</td>\n",
       "      <td>5</td>\n",
       "      <td>1.0</td>\n",
       "      <td>0.0</td>\n",
       "    </tr>\n",
       "    <tr>\n",
       "      <th>2</th>\n",
       "      <td>28</td>\n",
       "      <td>single</td>\n",
       "      <td>0</td>\n",
       "      <td>447</td>\n",
       "      <td>1</td>\n",
       "      <td>1</td>\n",
       "      <td>unknown</td>\n",
       "      <td>5</td>\n",
       "      <td>217</td>\n",
       "      <td>1</td>\n",
       "      <td>-1</td>\n",
       "      <td>0</td>\n",
       "      <td>0</td>\n",
       "      <td>5</td>\n",
       "      <td>1.0</td>\n",
       "      <td>0.0</td>\n",
       "    </tr>\n",
       "    <tr>\n",
       "      <th>3</th>\n",
       "      <td>42</td>\n",
       "      <td>divorced</td>\n",
       "      <td>1</td>\n",
       "      <td>2</td>\n",
       "      <td>1</td>\n",
       "      <td>0</td>\n",
       "      <td>unknown</td>\n",
       "      <td>5</td>\n",
       "      <td>380</td>\n",
       "      <td>1</td>\n",
       "      <td>-1</td>\n",
       "      <td>0</td>\n",
       "      <td>0</td>\n",
       "      <td>5</td>\n",
       "      <td>1.0</td>\n",
       "      <td>0.0</td>\n",
       "    </tr>\n",
       "    <tr>\n",
       "      <th>4</th>\n",
       "      <td>56</td>\n",
       "      <td>married</td>\n",
       "      <td>0</td>\n",
       "      <td>779</td>\n",
       "      <td>1</td>\n",
       "      <td>0</td>\n",
       "      <td>unknown</td>\n",
       "      <td>5</td>\n",
       "      <td>164</td>\n",
       "      <td>1</td>\n",
       "      <td>-1</td>\n",
       "      <td>0</td>\n",
       "      <td>0</td>\n",
       "      <td>5</td>\n",
       "      <td>1.0</td>\n",
       "      <td>0.0</td>\n",
       "    </tr>\n",
       "  </tbody>\n",
       "</table>\n",
       "</div>"
      ],
      "text/plain": [
       "   age   marital  default  balance  housing  loan  contact  day  duration  \\\n",
       "0   58   married        0     2143        1     0  unknown    5       261   \n",
       "1   35   married        0      231        1     0  unknown    5       139   \n",
       "2   28    single        0      447        1     1  unknown    5       217   \n",
       "3   42  divorced        1        2        1     0  unknown    5       380   \n",
       "4   56   married        0      779        1     0  unknown    5       164   \n",
       "\n",
       "   campaign  pdays  previous  y  month_no  edu  prev_out  \n",
       "0         1     -1         0  0         5  1.0       0.0  \n",
       "1         1     -1         0  0         5  1.0       0.0  \n",
       "2         1     -1         0  0         5  1.0       0.0  \n",
       "3         1     -1         0  0         5  1.0       0.0  \n",
       "4         1     -1         0  0         5  1.0       0.0  "
      ]
     },
     "execution_count": 6,
     "metadata": {},
     "output_type": "execute_result"
    }
   ],
   "source": [
    "bank = bank.merge(pd.DataFrame({\n",
    "    'poutcome': bank.poutcome.sort_values().unique(),\n",
    "    'prev_out': [-1, np.nan, 1, 0]\n",
    "})).drop('poutcome', axis=1).drop('job', axis=1)\n",
    "bank.head()"
   ]
  },
  {
   "cell_type": "code",
   "execution_count": 7,
   "metadata": {},
   "outputs": [
    {
     "data": {
      "text/plain": [
       "{'cellular', 'telephone', 'unknown'}"
      ]
     },
     "execution_count": 7,
     "metadata": {},
     "output_type": "execute_result"
    }
   ],
   "source": [
    "set(bank.contact)"
   ]
  },
  {
   "cell_type": "code",
   "execution_count": 8,
   "metadata": {
    "ExecuteTime": {
     "end_time": "2019-02-14T01:06:54.203599Z",
     "start_time": "2019-02-14T01:06:53.777394Z"
    },
    "collapsed": true
   },
   "outputs": [
    {
     "data": {
      "text/html": [
       "<div>\n",
       "<style scoped>\n",
       "    .dataframe tbody tr th:only-of-type {\n",
       "        vertical-align: middle;\n",
       "    }\n",
       "\n",
       "    .dataframe tbody tr th {\n",
       "        vertical-align: top;\n",
       "    }\n",
       "\n",
       "    .dataframe thead th {\n",
       "        text-align: right;\n",
       "    }\n",
       "</style>\n",
       "<table border=\"1\" class=\"dataframe\">\n",
       "  <thead>\n",
       "    <tr style=\"text-align: right;\">\n",
       "      <th></th>\n",
       "      <th>age</th>\n",
       "      <th>default</th>\n",
       "      <th>balance</th>\n",
       "      <th>housing</th>\n",
       "      <th>loan</th>\n",
       "      <th>day</th>\n",
       "      <th>duration</th>\n",
       "      <th>campaign</th>\n",
       "      <th>pdays</th>\n",
       "      <th>previous</th>\n",
       "      <th>y</th>\n",
       "      <th>month_no</th>\n",
       "      <th>edu</th>\n",
       "      <th>prev_out</th>\n",
       "      <th>marital_divorced</th>\n",
       "      <th>marital_married</th>\n",
       "      <th>marital_single</th>\n",
       "      <th>contact_cellular</th>\n",
       "      <th>contact_telephone</th>\n",
       "      <th>contact_unknown</th>\n",
       "    </tr>\n",
       "  </thead>\n",
       "  <tbody>\n",
       "    <tr>\n",
       "      <th>0</th>\n",
       "      <td>58</td>\n",
       "      <td>0</td>\n",
       "      <td>2143</td>\n",
       "      <td>1</td>\n",
       "      <td>0</td>\n",
       "      <td>5</td>\n",
       "      <td>261</td>\n",
       "      <td>1</td>\n",
       "      <td>-1</td>\n",
       "      <td>0</td>\n",
       "      <td>0</td>\n",
       "      <td>5</td>\n",
       "      <td>1.0</td>\n",
       "      <td>0.0</td>\n",
       "      <td>0</td>\n",
       "      <td>1</td>\n",
       "      <td>0</td>\n",
       "      <td>0</td>\n",
       "      <td>0</td>\n",
       "      <td>1</td>\n",
       "    </tr>\n",
       "    <tr>\n",
       "      <th>1</th>\n",
       "      <td>35</td>\n",
       "      <td>0</td>\n",
       "      <td>231</td>\n",
       "      <td>1</td>\n",
       "      <td>0</td>\n",
       "      <td>5</td>\n",
       "      <td>139</td>\n",
       "      <td>1</td>\n",
       "      <td>-1</td>\n",
       "      <td>0</td>\n",
       "      <td>0</td>\n",
       "      <td>5</td>\n",
       "      <td>1.0</td>\n",
       "      <td>0.0</td>\n",
       "      <td>0</td>\n",
       "      <td>1</td>\n",
       "      <td>0</td>\n",
       "      <td>0</td>\n",
       "      <td>0</td>\n",
       "      <td>1</td>\n",
       "    </tr>\n",
       "    <tr>\n",
       "      <th>2</th>\n",
       "      <td>28</td>\n",
       "      <td>0</td>\n",
       "      <td>447</td>\n",
       "      <td>1</td>\n",
       "      <td>1</td>\n",
       "      <td>5</td>\n",
       "      <td>217</td>\n",
       "      <td>1</td>\n",
       "      <td>-1</td>\n",
       "      <td>0</td>\n",
       "      <td>0</td>\n",
       "      <td>5</td>\n",
       "      <td>1.0</td>\n",
       "      <td>0.0</td>\n",
       "      <td>0</td>\n",
       "      <td>0</td>\n",
       "      <td>1</td>\n",
       "      <td>0</td>\n",
       "      <td>0</td>\n",
       "      <td>1</td>\n",
       "    </tr>\n",
       "    <tr>\n",
       "      <th>3</th>\n",
       "      <td>42</td>\n",
       "      <td>1</td>\n",
       "      <td>2</td>\n",
       "      <td>1</td>\n",
       "      <td>0</td>\n",
       "      <td>5</td>\n",
       "      <td>380</td>\n",
       "      <td>1</td>\n",
       "      <td>-1</td>\n",
       "      <td>0</td>\n",
       "      <td>0</td>\n",
       "      <td>5</td>\n",
       "      <td>1.0</td>\n",
       "      <td>0.0</td>\n",
       "      <td>1</td>\n",
       "      <td>0</td>\n",
       "      <td>0</td>\n",
       "      <td>0</td>\n",
       "      <td>0</td>\n",
       "      <td>1</td>\n",
       "    </tr>\n",
       "    <tr>\n",
       "      <th>4</th>\n",
       "      <td>56</td>\n",
       "      <td>0</td>\n",
       "      <td>779</td>\n",
       "      <td>1</td>\n",
       "      <td>0</td>\n",
       "      <td>5</td>\n",
       "      <td>164</td>\n",
       "      <td>1</td>\n",
       "      <td>-1</td>\n",
       "      <td>0</td>\n",
       "      <td>0</td>\n",
       "      <td>5</td>\n",
       "      <td>1.0</td>\n",
       "      <td>0.0</td>\n",
       "      <td>0</td>\n",
       "      <td>1</td>\n",
       "      <td>0</td>\n",
       "      <td>0</td>\n",
       "      <td>0</td>\n",
       "      <td>1</td>\n",
       "    </tr>\n",
       "  </tbody>\n",
       "</table>\n",
       "</div>"
      ],
      "text/plain": [
       "   age  default  balance  housing  loan  day  duration  campaign  pdays  \\\n",
       "0   58        0     2143        1     0    5       261         1     -1   \n",
       "1   35        0      231        1     0    5       139         1     -1   \n",
       "2   28        0      447        1     1    5       217         1     -1   \n",
       "3   42        1        2        1     0    5       380         1     -1   \n",
       "4   56        0      779        1     0    5       164         1     -1   \n",
       "\n",
       "   previous  y  month_no  edu  prev_out  marital_divorced  marital_married  \\\n",
       "0         0  0         5  1.0       0.0                 0                1   \n",
       "1         0  0         5  1.0       0.0                 0                1   \n",
       "2         0  0         5  1.0       0.0                 0                0   \n",
       "3         0  0         5  1.0       0.0                 1                0   \n",
       "4         0  0         5  1.0       0.0                 0                1   \n",
       "\n",
       "   marital_single  contact_cellular  contact_telephone  contact_unknown  \n",
       "0               0                 0                  0                1  \n",
       "1               0                 0                  0                1  \n",
       "2               1                 0                  0                1  \n",
       "3               0                 0                  0                1  \n",
       "4               0                 0                  0                1  "
      ]
     },
     "execution_count": 8,
     "metadata": {},
     "output_type": "execute_result"
    }
   ],
   "source": [
    "bank_dummies = pd.get_dummies(bank)\n",
    "bank_dummies.sample(10)\n",
    "\n",
    "#bank_dummies = bank_dummies.dropna()\n",
    "bank_dummies.head()"
   ]
  },
  {
   "cell_type": "code",
   "execution_count": 9,
   "metadata": {
    "ExecuteTime": {
     "end_time": "2019-02-14T01:09:15.466980Z",
     "start_time": "2019-02-14T01:09:15.436263Z"
    },
    "collapsed": true
   },
   "outputs": [],
   "source": [
    "X_train, X_test, y_train, y_test = train_test_split(\n",
    "    bank_dummies.drop('y', axis=1).drop('prev_out',axis=1).drop('edu',axis=1), # X\n",
    "    bank_dummies.y,  # y\n",
    "    test_size=0.2, # porcentaje que será prueba\n",
    "    random_state=42) # para fijar el aleatorio (reproducibilidad)"
   ]
  },
  {
   "cell_type": "code",
   "execution_count": 10,
   "metadata": {
    "ExecuteTime": {
     "end_time": "2019-02-14T02:06:18.583126Z",
     "start_time": "2019-02-14T02:06:18.565242Z"
    },
    "collapsed": true
   },
   "outputs": [],
   "source": [
    "grid_parametros = {\n",
    "    'max_depth':[i for i in range (1,50)],\n",
    "    'splitter': ['random'],\n",
    "    'min_samples_split': [15, 20, 30],\n",
    "}\n",
    "\n",
    "rf = DTR()\n",
    "\n",
    "rf_cv = GridSearchCV(\n",
    "    rf, \n",
    "    grid_parametros,\n",
    ")"
   ]
  },
  {
   "cell_type": "code",
   "execution_count": 11,
   "metadata": {
    "ExecuteTime": {
     "end_time": "2019-02-14T02:07:09.731748Z",
     "start_time": "2019-02-14T02:06:18.731036Z"
    }
   },
   "outputs": [
    {
     "data": {
      "text/plain": [
       "GridSearchCV(cv=None, error_score='raise',\n",
       "       estimator=DecisionTreeRegressor(criterion='mse', max_depth=None, max_features=None,\n",
       "           max_leaf_nodes=None, min_impurity_decrease=0.0,\n",
       "           min_impurity_split=None, min_samples_leaf=1,\n",
       "           min_samples_split=2, min_weight_fraction_leaf=0.0,\n",
       "           presort=False, random_state=None, splitter='best'),\n",
       "       fit_params=None, iid=True, n_jobs=1,\n",
       "       param_grid={'max_depth': [1, 2, 3, 4, 5, 6, 7, 8, 9, 10, 11, 12, 13, 14, 15, 16, 17, 18, 19, 20, 21, 22, 23, 24, 25, 26, 27, 28, 29, 30, 31, 32, 33, 34, 35, 36, 37, 38, 39, 40, 41, 42, 43, 44, 45, 46, 47, 48, 49], 'splitter': ['random'], 'min_samples_split': [15, 20, 30]},\n",
       "       pre_dispatch='2*n_jobs', refit=True, return_train_score='warn',\n",
       "       scoring=None, verbose=0)"
      ]
     },
     "execution_count": 11,
     "metadata": {},
     "output_type": "execute_result"
    }
   ],
   "source": [
    "rf_cv.fit(X_train, y_train)"
   ]
  },
  {
   "cell_type": "code",
   "execution_count": 12,
   "metadata": {
    "ExecuteTime": {
     "end_time": "2019-02-14T02:07:09.738030Z",
     "start_time": "2019-02-14T02:07:09.733825Z"
    }
   },
   "outputs": [
    {
     "data": {
      "text/plain": [
       "{'max_depth': 12, 'min_samples_split': 30, 'splitter': 'random'}"
      ]
     },
     "execution_count": 12,
     "metadata": {},
     "output_type": "execute_result"
    }
   ],
   "source": [
    "rf_cv.best_params_"
   ]
  },
  {
   "cell_type": "code",
   "execution_count": 13,
   "metadata": {},
   "outputs": [
    {
     "data": {
      "text/plain": [
       "0.263627514700456"
      ]
     },
     "execution_count": 13,
     "metadata": {},
     "output_type": "execute_result"
    }
   ],
   "source": [
    "rf_cv.best_score_"
   ]
  },
  {
   "cell_type": "markdown",
   "metadata": {},
   "source": [
    "## Observar y Entender\n",
    "\n",
    "El código que sigue lo utilizamos para saber cómo estaban armandos los valores que ibamos a clasificar y poder entender mejor."
   ]
  },
  {
   "cell_type": "code",
   "execution_count": 14,
   "metadata": {},
   "outputs": [
    {
     "data": {
      "text/markdown": [
       "<span style='color:#ce00ce'>age:</span>"
      ],
      "text/plain": [
       "<IPython.core.display.Markdown object>"
      ]
     },
     "metadata": {},
     "output_type": "display_data"
    },
    {
     "data": {
      "text/markdown": [
       "<span style='color:#ffffff'>[58, 35, 28, 42, 56, 39, 49, 51, 29, 48, 32, 38, 60, 59, 46, 36, 27, 47, 45, 33, 52, 57, 40, 54, 31, 55, 50, 43, 41, 34, 30, 37, 44, 53, 23, 25, 24, 26, 20, 22, 62, 74, 61, 21, 78, 66, 71, 80, 77, 64, 67, 81, 63, 73, 72, 65, 70, 89, 76, 68, 75, 69, 82, 83, 19, 79, 18, 95, 86, 87, 90, 94, 84, 92, 85, 88, 93]</span>"
      ],
      "text/plain": [
       "<IPython.core.display.Markdown object>"
      ]
     },
     "metadata": {},
     "output_type": "display_data"
    },
    {
     "data": {
      "text/markdown": [
       "<span style='color:#ce00ce'><br></span>"
      ],
      "text/plain": [
       "<IPython.core.display.Markdown object>"
      ]
     },
     "metadata": {},
     "output_type": "display_data"
    },
    {
     "data": {
      "text/markdown": [
       "<span style='color:#ce00ce'>default:</span>"
      ],
      "text/plain": [
       "<IPython.core.display.Markdown object>"
      ]
     },
     "metadata": {},
     "output_type": "display_data"
    },
    {
     "data": {
      "text/markdown": [
       "<span style='color:#ffffff'>[0, 1]</span>"
      ],
      "text/plain": [
       "<IPython.core.display.Markdown object>"
      ]
     },
     "metadata": {},
     "output_type": "display_data"
    },
    {
     "data": {
      "text/markdown": [
       "<span style='color:#ce00ce'><br></span>"
      ],
      "text/plain": [
       "<IPython.core.display.Markdown object>"
      ]
     },
     "metadata": {},
     "output_type": "display_data"
    },
    {
     "data": {
      "text/markdown": [
       "<span style='color:#ce00ce'>balance:</span>"
      ],
      "text/plain": [
       "<IPython.core.display.Markdown object>"
      ]
     },
     "metadata": {},
     "output_type": "display_data"
    },
    {
     "data": {
      "text/markdown": [
       "<span style='color:#ffffff'>[2143, 231, 447, 2, 779, 255, 378, 10635, -364, 0, -244, 243, 424, 6530, 100, 59, 137, 101, 81, 229, 151, 523, -67, 262, 7, 42, -4, 47, 271, 184, 37, 211, 377, 73, 173, 400, 176, 517, 483, 34, 3237, 207, 297, 318, 742, 25, 600, 19, 258, 339, 58, 313, 193, 2558, 115, 831, 1387, 24598, 46, 510, 685, 187, 1068, 263, 841, 1, 86, 830, 8730, 477, 16, 1169, 163, 9, 4325, 1680, 560, 242, 292, 964, -76, 5345, 230, 1011, 744, 459, 3877, 107, 17, 310, 405, 1328, 2877, 60, 1852, 395, 85, -184, 898, 65, 4, 281, -173, 389, 92, 1631, 2142, 226, 125, 68, 105, 550, 32, 144, 383, 6920, 800, 239, 103, 221, 185, 2303, 305, 147, 3, 872, 490, 386, -248, 1265, 673, 552, 98, 45, 8, 233, 309, 442, 267, 8823, 444, 542, 112, 134, 644, 301, 906, 54, 1716, 188, 157, 436, 406, 1722, 1026, 308, 2605, -317, 72, 743, -33, 76, 1924, 199, 460, 788, 2827, 120, 111, 703, 1348, 141, 177, -413, 3837, 870, 133, 325, 7444, 322, 10350, 1773, 44, 844, 129, 643, 1341, 5956, 1942, 797, 66, 1798, 220, 1161, 777, 1513, 121, 904, 751, 1315, 2261, 491, 675, 2331, 31, 2067, 150, -29, 381, 21, 6, 846, 178, 388, 1601, 375, -275, 1786, 607, 417, 336, 704, -820, 538, 948, 1288, 393, 570, 1768, 572, 574, 429, 3932, 2124, 528, 394, -85, 498, 89, 820, 14, 1891, 264, 458, 422, 4286, 22, 33, -322, 288, 190, 246, 1825, 794, 1842, 223, 3285, 670, 443, 118, 2269, 726, 183, 6259, 1108, 321, 1326, 2257, 659, 291, 218, 5406, 350, 546, 433, -6, 266, 1510, 79, -3313, -202, -256, -503, 638, 2530, 338, 84, 12, 1555, 392, -396, 91, 3284, 4190, 5694, 1696, 312, 913, 123, 2272, -120, 493, 6248, 154, 606, 713, -80, 4542, 7816, 784, 333, 409, 247, -402, 2167, 311, 541, 561, 4509, 196, 641, 108, 40, -214, 11, 244, 450, 250, 2420, 1535, 762, 1750, -43, 4128, 867, 1345, -24, 714, 551, 146, 295, 1473, 171, 227, 36, 594, 1135, 166, 334, -522, 168, -3, 119, 279, 595, 1557, 596, -114, 3825, 989, 2199, 1823, 463, 849, 1949, -395, 618, 6203, 580, 48, -892, 5, 373, 1270, 402, 1691, 3571, 126, 1330, 257, 1212, 2218, 12482, 489, 1531, 623, 559, 9956, 1300, 593, 599, 735, 1089, 3749, 1576, 640, 547, 871, 37378, 1093, 202, 877, 1130, 740, 1088, 413, 468, -700, 482, 4446, 1340, 3158, 23189, 20718, 1180, -38, 303, 369, 4543, -1, 1410, 592, 1952, 5426, 2800, -328, 474, 2106, 1945, 4556, -52, 6029, 82, 601, 1132, 2938, -516, -143, 2440, 420, 2883, 2157, 1033, 1164, 6659, 2516, 6510, 4323, 4582, 2400, 2577, 22370, 1217, 1224, 1192, 4928, -68, 38, 577, 192, 1038, 1146, 74, 1363, 6060, 1323, 252, 1278, 347, 1934, 9541, 4580, 8016, 4004, 102, 497, -625, 2319, 981, 10399, 893, 106, 10576, 4904, 78, 3840, 5670, 7440, 900, 1439, 2767, 1074, 874, 8717, 1092, 635, 1455, 56, 2360, -124, -176, 1533, 480, 205, 94, 901, 3431, 273, 975, 3689, 355, 499, 1029, 1343, 245, 705, 364, 12269, 1126, 236, 876, 586, 29887, 2724, -98, 282, -524, 3706, -308, 647, 770, 136, 567, 4537, 1464, 1297, 276, 2185, 62, 1125, 2207, 307, 329, 4393, 488, 2884, 548, 1932, 10561, 99, 8014, 2589, 1497, -471, 2784, 259, 75, 4301, 128, 5431, 323, 80, 836, 296, 1012, 617, 775, -31, 889, 501, 365, 354, 4357, 824, 1017, 1897, -233, 1540, 3238, 1116, 462, 4087, 642, 358, 1253, 320, 122, 880, 198, 149, 3291, -980, 690, 5306, 897, 201, 2847, 806, 425, 3110, 162, 622, 43, 1820, 860, 827, 6138, 3059, 863, 440, 759, 4958, 2644, -291, 427, 5432, 8741, 2007, 4399, 371, -8, 5122, 328, 1271, 18, 4798, 585, 148, 859, 410, 23867, 967, 351, 2012, 917, 1423, 3127, 1724, 1373, 4761, 1131, 376, 602, 1040, -871, 514, 1025, -345, 2309, 6102, 1349, 2015, 2976, 363, 4025, -898, 5754, -15, 3954, 1746, 687, 3090, -530, 666, 135, 808, -289, 35368, 1110, 1129, 741, 1362, 2287, 4315, 280, 1260, 1045, -136, 1380, 487, 855, 502, 1350, 1887, 1336, 1216, 4465, 1869, 2084, 11149, 1583, 216, 385, 71, 728, -121, 330, 825, 1301, 63, 527, 1755, 299, 1717, 7198, 1289, 4665, 2412, 2308, 4752, 6704, 28, -867, 2271, 1545, 8874, 1756, 4924, 2205, 24870, 4170, -194, 1284, 3696, 1393, 4191, 412, 461, 1813, 10, 3137, 1710, 2737, 8564, 4243, 1354, 3967, 11315, 416, 4303, 3050, -386, 5889, 14692, 1243, -326, 17946, 370, 390, 1379, -355, 1804, 1141, 1570, -1206, -762, 539, -319, 2043, -26, -267, 368, 302, 1611, 454, 1522, 341, 1667, 17455, 3625, 1651, 1996, 701, -210, 253, 426, 2599, 3465, 5205, 5773, 415, 851, 882, 1501, 1529, -679, 357, 317, 5779, 2197, 1605, 471, 9874, 540, 387, 2317, 1182, 895, 145, 655, 591, 191, 97, -606, 1595, 1107, 682, 2229, 7544, 9725, 605, 2316, 2619, 138, 1185, -446, 265, -305, 476, 791, -1026, -556, 899, 504, 1640, 1492, -800, 175, -307, 1050, -502, 21111, 306, 1449, -69, 1145, 403, -901, 479, 26, 1037, 23, 337, 553, -1379, 4131, -281, 1353, 612, 5455, 4038, 293, -197, 737, 3517, -50, -634, 3154, 408, 939, 219, 712, 3875, -71, 2904, 1411, 3773, 1954, 2564, 13, -383, -676, 270, 290, 723, 1230, 2984, 1304, -999, 1626, -825, 124, -512, 3257, -429, 16957, -274, -363, 941, 1285, 204, 1222, 445, -718, 3635, 1944, 949, 13186, 22867, 7832, 10436, 6164, 725, 3037, -27, -78, -342, 362, 556, 174, -208, 2593, 1183, -1148, 1657, 1598, 3809, -701, 10065, -154, 4513, 206, 139, -218, 326, -303, 314, 2570, 16232, -255, 6840, 2451, 1489, -241, -196, 15, 525, 169, -130, 4050, -103, -164, 715, -158, 5980, 1624, 1069, 4307, 5288, 384, -22, 2692, -1655, 428, 1058, 839, 1995, 771, -421, 8089, 5214, -89, 4264, -160, -61, 2030, 935, -304, 3443, -1350, 5883, 1385, 3104, 957, 1493, 5336, 731, 419, 481, 3538, 931, 724, 2508, 485, 615, 2571, 3083, 813, 1993, 1308, -690, 1119, 1242, 1403, 451, 3672, 505, 832, 77, 537, 1474, 285, 130, 1177, 816, 2452, 8839, 6450, 455, 828, 195, 2076, -1485, 8794, 12956, 254, 1900, -1312, 856, 500, 16992, 738, 581, 1065, -151, 2488, 1550, 1929, 9767, 795, 891, -113, 472, 1731, -3372, 524, 457, 1086, 4265, 960, 1366, 4692, 1689, -81, 6836, 3516, 3087, 3886, 2764, 1732, 11804, 5669, 923, 7606, 11528, 4425, 512, 3950, 3246, 686, 2909, -65, 1405, 569, 2147, 722, 1767, 1671, 241, 12855, 583, 565, -974, 2528, 986, 1440, 5282, 14481, 4660, 132, 1158, -199, 3911, 391, 287, 614, 1267, 3122, -2049, 3021, 1589, 579, -127, 564, 2548, 2022, 783, -601, 3254, 453, 1144, -45, 2806, 1316, 49, 127, -365, 1004, 2061, -1027, 7867, 2609, 568, 573, 3141, 1356, 2333, 1446, 911, 3221, 69, 8947, 214, 672, 2187, 10907, 1536, 1876, 1153, 4984, 3421, 11278, 850, 678, 6368, 2480, 2458, 349, 3271, 636, 1049, 533, 1458, 10884, 3850, 1168, 9407, 1103, 2643, 88, 2443, 2613, 4116, 1184, 3628, 2894, 2889, 513, 52, 2549, 721, 630, 658, 6392, 1371, 668, 3921, 1133, 1649, 1432, 224, -298, 2159, 7620, 805, 2799, 342, 41, 645, 4835, 2559, 437, 25204, 1428, 875, 1850, 399, -401, 1494, 93, -192, 2203, 748, 1517, 2640, 842, 503, 509, 5990, 5289, 372, -334, 2470, 432, 991, 327, 152, 802, -692, -206, 104, 1780, 2679, 2465, 2441, 29, 140, 1495, 260, 114, 544, 475, 1435, 1618, 4239, 4576, 1763, 228, 1072, 8509, 815, 5365, 1544, -23, 492, 757, 1085, 530, -1224, 2417, 2801, 11757, -277, 1174, 3014, 608, 563, 464, 249, 11103, 1849, 3518, 1137, -129, 1311, 4647, 3041, 331, 962, 709, 90, 9449, 1143, 665, -703, -370, 251, 116, 366, 1612, 803, 1094, 269, -1105, 536, 452, 2366, 340, -1636, 910, 966, 1400, 4064, 397, 946, 555, 694, 414, 18254, -11, 50, -551, 4714, 156, 1148, 2696, 23552, 1729, 20, 914, 5709, 335, 1514, 603, 1150, 2734, 61, 1425, 963, 1436, 359, 3589, 1263, 421, 1195, 1810, 2565, 2749, 584, 172, 1064, 4937, 2278, 2813, 142, 2019, -946, 702, 2576, 3371, 374, -978, 3821, 1264, 232, 994, 4908, 1204, 30, 396, 186, 1149, 903, 411, 3944, 469, 1712, -269, 283, 170, 833, 532, 1769, -119, 2431, 3202, 2260, 1090, -271, 1027, 1272, 604, 2682, 8821, -449, -42, -296, 1041, -497, 916, 2178, 1307, -152, 3000, 1317, 558, -252, 1194, 212, -466, 1433, 1374, 6781, 435, 1692, 1395, -227, 1388, -172, 717, 1056, 2851, 2069, 3387, 3301, -1313, 676, 165, 284, -750, 16874, 13460, 11752, 1273, 5792, -4057, 3743, -230, 143, 3347, 10773, 2959, 4575, 776, 4210, 16563, -770, 96, 7290, 2164, 3410, 1922, 438, 1170, 2802, 1480, 518, -162, 1080, -234, 235, 3302, 2368, 2017, 2637, 1034, -578, 3063, 2684, 1814, 9336, -75, 902, 10269, 519, 3723, 4256, 12607, 3197, 1188, 2239, 332, 999, 2026, 4841, 7578, 732, 2503, 1843, 5741, 562, 2988, 11219, 2486, 117, 13094, 5086, 747, 2211, 496, 654, 699, 2365, 1602, 6507, 3769, 2635, 21088, 2196, 39, 2907, 1077, 2555, 1081, 843, 2033, 2279, 2305, 430, 3076, 7818, 217, 222, 261, 13107, 55, 39098, 8000, 1269, 2288, 4305, 401, 1456, 2838, 1830, 3810, 2364, 1880, 780, 70, 531, 1967, 8103, 515, -559, -167, 2193, 3729, 756, 5041, 18904, 2763, 3560, 691, 1237, 1834, 1104, 1682, 7505, 1475, 578, -79, 684, 932, 1907, 1193, 1734, -111, 19797, 1632, 5164, -239, 21096, 6525, 2998, 6321, 2617, 2387, 5195, 5234, 3404, 696, -411, 2529, 3139, 1166, -562, 2893, 1355, 407, 575, 1854, 9326, 1221, 1669, -630, 12686, 4788, 2186, 974, 234, 1588, 1762, -478, 3456, 2188, 17964, -63, 27733, -488, 208, 7845, 1476, 692, 912, 3844, 1845, 661, 980, 27359, 256, -205, 298, 3931, 131, 2399, -409, 11222, 4737, 6281, 982, 1165, 529, 344, 1566, 5057, 4013, 3611, 648, 907, -713, 543, 2330, -1083, 17036, 1010, 4594, 1808, 160, -380, 1118, 1014, 933, 944, 7454, 182, 356, -250, -222, 9824, -640, 1619, 853, 1218, 15442, 240, 9397, 13360, 2424, 2960, 1151, 1800, 4207, 11464, 734, 7025, 588, 1044, 275, 1111, 2996, 652, 1733, -572, 113, 1357, 1189, 1623, -661, 1742, 1523, 1646, 21861, 625, 2313, 1047, 5506, 881, 884, 799, 984, 4150, 9796, 6408, 3039, 1266, 5403, 657, 189, 624, 2000, 619, 53, 810, 10360, 1309, 1059, 64, 3275, 2774, 1636, -246, 958, 1698, 727, 9192, 2296, 21574, 1549, 1114, 7067, 16430, 590, 1526, 3201, 7179, 535, 1953, 3952, 7951, -1232, 1280, 2518, 5011, 2810, 2920, 2876, 153, 10483, 7821, 4568, 1046, 1382, 1197, 3117, 10035, 1057, 669, 861, 2946, 2823, 1206, 2226, 1666, 3281, 3819, 3261, 1805, 4343, 1016, 4844, 1115, 1113, 2020, 3295, 13893, 1604, -190, 1128, 4139, 1574, 8368, 2585, 16843, 2517, 5523, 1202, 431, 1866, 4445, 9019, 1160, 7049, 2821, -803, 6204, 2369, 1571, 1248, 10957, 1454, 1706, 8828, 1841, 3370, 3165, 1784, 2630, 4397, -470, 456, 631, 3727, 1052, 1347, 3355, 2999, 677, 10638, 2223, 5658, 1985, 3140, 4176, 1401, 11787, 1018, 3687, 1678, 57, 5894, 3708, 1225, 2929, 627, 3229, 6072, 1287, -813, -469, -1941, 993, 4359, 3191, 12581, 2198, 203, 2005, 2627, 7124, 2741, 1832, 3057, -1212, 671, 1847, 21664, 3091, 718, 2600, 2496, 2512, 1654, 1234, 854, 439, 2837, 5837, 1415, 4961, 1191, 1467, 5251, 1568, 1437, 753, 1603, 557, 6181, 4266, 110, 3316, -49, 404, 12877, 4515, 6613, 22946, 1911, 5244, -25, 3649, 3329, 7388, 1359, 873, 5253, 2253, 2918, 729, 620, 11265, 2310, 11008, 2087, 6497, 17361, 959, 1172, 3768, 2283, 773, 7419, 1147, 3296, 2729, 9405, -1779, 4396, 5680, -687, 4112, 3626, -1007, 5087, 1663, 3415, 4045, 4324, 7177, 1833, 3737, 2808, -378, 9711, 3134, 13501, 1352, 209, 6495, 3022, 1923, 6025, 1937, -309, 940, 5736, 2685, 1062, -1968, 610, 2868, 3135, 67, 2978, 662, 5320, 194, 2135, 24055, 1917, 9311, 9103, 977, 27069, -215, 3045, 348, 1694, -92, -251, 2885, 2237, 1241, 155, 2820, 1286, -265, -56, 2515, 2166, 12276, 3556, 1430, -297, 819, 6209, 6999, 4655, 5464, 1855, 4777, 651, 7318, 3233, 3895, 1422, 1256, 324, 1697, 1105, 786, 996, -456, 10786, 507, 1451, 2031, 2155, 1609, 5769, 2098, 1558, 866, -1613, 4145, 2716, -1036, 360, 5804, 711, -91, -94, -266, 3759, 526, 24, 4294, -722, 382, 597, 3082, 473, 1167, 343, 213, 6968, 1312, 2094, 534, 1407, 3842, 3343, 3824, 883, 10758, 3289, 611, 3178, 7968, 4578, 1628, 1633, 653, 3094, 5215, 12322, 3797, 942, 990, 200, 2694, 1870, 3846, 2240, 2104, 7222, 865, 3402, 2383, 102127, 3109, 3340, 785, 5142, 7752, 4168, 15445, 15787, 1293, 1739, 8963, 2389, 22086, -10, 5265, 3384, 587, 1227, 1933, 2163, 8295, 2419, 289, 516, 1159, 3290, 1693, 380, 361, 1758, 1061, 6574, 925, 6246, 3630, 4216, 1444, 1741, 2206, 2081, 4694, 4708, 20585, 969, 3232, 522, 180, 1463, 1675, 6711, 4200, 8535, 1527, 5108, 667, 10583, 2088, 6590, 446, 1048, 2887, 3669, 5008, 3544, 508, 1071, 1431, 5397, 4951, 3143, 2699, 3255, 4071, -302, -90, -585, -70, 2099, 51, 1156, -59, 1421, 1728, 1007, -236, 1447, 27, -1014, -132, 278, 1392, 1530, 1023, -513, 1361, 1346, -108, 1117, -40, 1573, -139, 2102, 979, -258, -468, 1098, 87, 621, 197, -44, 3604, 478, 51439, -547, 8303, 3694, 793, 434, 2476, 1252, 2840, -243, 758, 5262, 1726, -74, 1890, -948, 6350, 628, 888, -591, 3440, 787, 1247, 272, 3043, -2, -410, -426, 4693, 6997, 1070, 3872, -1112, 3800, 6404, -869, -223, 633, 2450, 710, -560, -710, 3885, 181, -5, 4923, 4054, 789, 1674, 367, 15437, 1013, 2131, 1163, 1198, 1171, 1338, -517, 2568, 159, 6586, 1196, 1988, 95, -73, 161, 1339, -83, -670, 761, 1249, 484, 2220, 2222, 983, 1660, 698, 2848, 466, 1840, 3841, 83, 1906, 1859, -104, 248, 706, 2262, 8300, 210, 1344, 1416, 733, 1622, -123, 6739, 3016, -2282, 418, 3659, 1537, 286, 3864, -100, 752, 582, 465, -988, 8224, 300, 1154, 1775, -37, 4654, 4104, 5009, 2622, 2629, 4048, 764, 6014, 1063, 2265, 7699, -28, -353, -563, -273, 38279, 3998, 2987, 782, 319, 1314, 2540, -1586, 2249, 12731, -232, 1238, -1038, 14058, 4909, -633, 3064, 2336, 4943, 1564, 2951, 3530, 1396, 6108, 1005, 10005, 1337, 708, 294, 2977, 1413, -117, 858, 5152, 467, -191, 1275, 1584, 3142, 3981, 1173, 4149, 2133, 2392, 2343, 1720, -714, 35, 1637, 4824, 1718, 21963, 3754, 1736, -86, 1295, 2551, -14, -360, 1482, 2357, 739, -229, 1582, 5691, -1884, 3357, 1372, 1590, -558, 158, 2979, 2770, -145, -6847, 2422, 1893, 2455, 1100, 2154, 2783, 1486, 2704, 5865, 2123, -888, 3795, 1035, 2690, -398, 1889, 2105, 1109, -324, 3926, 45789, -1053, -149, 2611, -496, 1703, 1257, 109, 2089, 268, 1730, -295, 3163, 2183, 423, 9965, 3092, 1790, 4331, 4306, 968, 1634, 995, 238, 693, 663, 2474, 2100, 1066, 2370, 1690, 14004, 707, 4386, 2353, 937, 1972, 14054, 14930, 1562, -458, 2471, 1672, 215, -168, 6388, 1408, 2356, 1087, 22557, -290, 2485, 3282, -183, 1102, 2553, 887, 1867, 2656, 945, 9664, 1022, 1679, -577, 277, 5260, 7612, 3331, 1565, 2032, -880, 179, 2642, 11532, 4039, 5074, -62, 3107, 1681, 4696, 1723, 5261, 5698, 1466, 634, 10122, 766, 2079, 3294, 4185, 4006, 470, -7, 909, 656, 3432, 6475, 1629, 972, 1215, 9630, 5156, 2047, 2063, -1493, 1506, 1235, 15561, 2428, -385, -861, -141, -1629, -391, 1220, -476, -528, -361, 1556, 1616, 1468, 1743, 4321, 13315, 2351, 1895, 1725, -749, -482, 2086, -495, 2263, 7190, 3947, 3390, 9881, 4675, 6269, 6200, 2625, 5284, 1236, -689, 7254, 2532, 24312, 4381, -1661, 1839, -299, 2298, 1452, 345, 826, 8106, 9143, 6657, 566, 1321, 14530, 1453, 4968, 5073, 2975, 5969, 2646, 11254, 1715, 2350, 6641, 8226, -375, 6486, 11310, -340, 2892, 398, -1598, 2173, 3972, 1015, 346, -1099, 869, 3337, 25290, 1938, 17410, 10347, 1209, 1240, 6763, 1837, -554, 1139, 1226, -381, 992, 4617, 571, 4358, 1079, -392, 2473, 2858, 4460, 2597, 5059, 2110, 2258, 5350, 3366, 3770, -1737, 4656, 1593, 7441, -2827, -1176, 2706, 2547, 6030, 1187, 554, 804, 237, -983, 4929, 745, -57, 755, 7154, 4879, -187, 1990, -499, 5331, 1078, 2194, 1515, 4439, -736, 1076, 1186, 4917, 4374, 1594, 2340, 14190, 2053, 1567, 812, 2983, 9314, 1329, 2857, 890, 9629, 2785, 1032, 6649, 2169, 1258, 4388, 3796, 7929, 1700, 5973, 5613, 7003, 5474, 5549, 4024, 674, 4738, 2733, 1591, 4567, 1268, 31472, 5475, 985, 1807, 3480, 3007, 3348, 1254, 1213, 1313, 9221, 5223, 1613, 1673, 837, 835, 934, -48, 2430, 3009, 4477, 809, 11391, 7192, 3794, 2578, 3529, 9683, 1908, 2266, 511, 1391, 679, 7668, 5094, 1394, 2048, 697, 16922, 1028, 1409, 2139, -642, 4063, 1980, 921, 7485, 14922, 1788, 1766, 3726, 3876, 13021, 8195, 950, 2728, 1377, 1483, 3211, 632, 1836, 2050, 681, 3766, 3718, 3812, 1858, 680, 765, 5988, 24780, 14282, 1112, 7788, 9261, 3133, 8279, 2660, 1097, 2401, 6359, 41923, 5926, 4333, 5389, 4043, 10077, 2505, 11754, -323, 3813, 649, -34, 3120, 868, 4765, 3690, 5340, 1572, 3395, 4953, 1477, 613, 1390, 1318, 4495, 441, 5999, 14355, -1781, 4235, 970, 15904, 3330, 2666, 4291, 6822, 1966, 6557, 3915, 5239, 834, 2125, 4547, 746, 1002, 15298, 10950, 5145, 3831, 768, 2819, 5334, 2327, 2126, 449, 1785, 5450, 66721, 5204, 42045, 2071, 3177, 8119, 1909, 2427, 1503, 3590, 5550, 1585, 6880, 1424, 2934, 3288, 947, 6961, 3939, -16, 9506, 2744, 3168, 3161, 2604, 2406, -805, 8422, -125, 4877, -344, 2739, 5581, 2723, 3353, 1190, 2374, 21510, 2900, 1987, 5016, 1963, 6127, 2957, 10088, 1707, 2093, 3003, 2385, 11971, 2745, 3897, 1795, 2759, 862, 4596, 1650, 2127, 1214, 2416, 1496, 2277, 838, 4231, 8408, 7513, -276, 5665, 3843, 11797, 2421, 448, 4889, -292, 1120, 3194, 23917, 2190, 1364, 801, 379, 4123, 1127, -681, 4945, -1980, 2672, 2586, 1208, 4459, 6493, 1882, 3739, 1434, 8351, 3426, 1296, 1054, 2657, 4782, 1039, 3362, 3020, -336, 646, 5904, 1383, 5942, 1575, 1009, 2757, 3616, 2667, 8304, 12409, -253, 8138, 2781, 4044, 5907, -672, -526, 2024, 2835, 3508, 11563, 1504, 1399, 23919, 894, 8897, 720, 4089, 4751, 2552, 1511, 3473, 1627, 1325, 8553, 1223, 3679, 520, 9634, 545, 2414, 1310, 3199, 2695, 2096, 3984, 4720, -405, 34646, 28433, 6542, 7132, 2302, 4436, 5887, 2658, 8463, 3452, 2521, 2453, 4373, 9827, 274, 4329, 6413, 2297, 3948, 1036, 2195, 1201, 823, 3481, 3321, 16377, 8902, 2117, 2454, 13410, 1819, 20479, 2498, 3623, 6945, 3681, 8029, 719, 4332, 1857, 2227, 943, 10112, 811, 4022, 3222, 4561, 3905, 4455, 6529, 896, 2344, 637, 1512, 4016, 4558, -498, 2616, 2349, 626, 1384, 6284, -134, 3031, 1559, 25856, 2985, 4728, 1200, 1262, 2307, 7197, 6748, 576, 4247, 3818, 7296, 750, 2944, 13763, 1406, 1914, 4564, 1283, 3335, 8402, 2306, 1979, 1635, 927, -217, 5641, 13044, 2935, 5124, 41630, 1541, 1764, 3575, 3732, 3779, 1969, 10639, -55, 1134, 3913, 2481, 3115, 11821, 4414, 598, 2832, 9207, 2074, 1043, 2359, 3038, 225, 10500, 6562, 4060, 2805, -962, 2137, 1884, 5399, 1759, 2537, 5495, 1596, 1282, 2149, 3655, 5547, 8413, 3228, 971, 929, -408, 1465, -58, 1625, 7135, 1205, 3820, 3576, 15302, 1802, 2013, 2671, 1661, 1402, 5878, 1412, 5561, 2320, 5060, 792, -96, 22546, 988, 1614, 7743, 1912, 5004, 7631, 2085, 2014, 20794, 3250, 1246, 52527, -337, 1485, 4948, 3995, -970, 886, -477, 1981, 700, -459, 6619, 7635, 549, 8097, 316, -146, 664, 15449, 10215, 1335, 4570, -126, 4636, 767, 1520, 1324, 3601, 2939, 1920, 5049, -201, 1006, 1207, 2950, 12766, 2172, 8971, 3874, 9135, 1232, -41, 2650, 905, 11126, 2397, 43074, 3327, 2652, 3418, -995, -300, -311, -886, 1498, 4874, 6742, 24450, 29230, 4213, 1051, 3777, 6144, 3367, 1331, 778, 3674, 9864, 2536, 1322, 7935, 973, 2251, 7005, -231, 7838, -612, 4644, -166, 3096, 1752, 5167, 4852, 1245, 3220, -533, 4687, 22815, 7744, 796, 5910, 3160, 1757, 730, 6563, 1121, 3724, -84, 7084, 6485, 639, 2204, 1020, 2328, -552, 2809, 1138, 852, 1868, 6383, 4979, 2460, 2437, 1713, 5065, 930, 5976, -315, 5943, 2676, 2213, -204, 3463, 3486, 3762, -542, 1608, -671, 20261, 486, 6743, 6174, 315, 864, 6766, 8047, 4348, -564, 918, -64, 1684, 1239, 3029, -17, 4522, 2059, 4293, 1561, 1008, 2925, 769, -9, 2408, 494, 3849, -359, 1255, 5936, 8312, 2233, 7554, 1699, 1791, 2812, 4297, 10532, 7050, 5112, 10861, 52587, 1592, 1600, 5291, 20422, 353, 1806, 7252, 1502, 1643, 10373, 6797, 8066, 3118, 13014, 4233, 1471, 3363, 6483, 6027, 1276, 18111, 3368, 7218, 2575, 15265, 1441, 763, 609, 10171, 12972, 2688, -600, 2209, 629, 3704, 3411, 976, 2531, 9962, 1978, 8514, 3186, 14170, 5473, 17875, 1519, 2582, 4985, 1231, 822, 1199, 2077, 4574, 6980, 814, 2717, 9214, 26254, 5514, 3352, 5254, 3537, 12026, 7506, 39385, 2140, 15834, 2931, 2216, 2109, 1124, 1579, 3119, 1648, 3745, 7529, 4912, 24025, 4688, 2463, 5063, 3170, 16935, 1727, 13578, 3951, 1327, 7687, 7458, 2846, 3717, 1333, 2037, 3466, 2916, 9710, 922, 521, 4683, 12857, 2807, 1956, 1101, 6573, 6490, 4152, 7028, 4960, 6798, 3419, 4278, 8969, 2901, 5381, 1875, 17432, 926, 7387, 5420, 1448, 3013, 5010, 2479, 14107, -198, 1871, 3505, -565, 3760, 7343, 2228, 2919, 6572, 716, 5187, 16264, 7007, 3150, 9678, -1415, 2289, 1783, 4504, 6274, 5326, 1319, 34247, 11650, 2347, 3640, 1831, 1904, 7595, 1781, 1375, 6153, 1777, -388, 13342, 7717, 26575, 2101, 4982, 2831, -723, 8277, 1342, 4313, 10653, 3185, 3520, 2596, 7338, 1709, 2171, 15520, 16786, 8142, 2995, 6172, 11591, 8563, 3603, 3234, -312, 5343, 12569, 2928, 3442, -1080, 6000, 35589, 10031, 3713, 1553, 4589, 3969, 5037, -666, 13853, 14232, 9072, 3244, 12539, 952, 2472, 9579, -341, 5722, 12437, 6008, 4432, 3564, 1175, 1082, -20, 12256, 3839, 11766, 6384, 2168, 2519, 3941, 4649, 4319, 3547, 12223, 1881, 3889, -485, 1828, 1024, 4411, 4262, 1983, 1095, 2708, 352, 2280, 4143, 2520, 8647, 11246, 688, 1778, -148, 5945, 3024, 8038, 4896, -181, 8093, 3711, 11281, 304, 997, 2583, 2004, 774, 3700, 4395, 3975, 10995, 2044, 4028, 5498, 26306, 7249, 2592, 12675, 5848, 4012, 1998, 6449, -608, 3943, 2580, 5794, 5238, 10114, 3361, 3445, 12212, 19358, 879, 6333, 3610, 1597, 12048, 1902, 6964, 17008, 32464, 8436, 4717, -367, 9269, 3188, 2011, 22452, 20527, 4517, 8649, 15062, 2875, 98417, 8953, 2404, 9851, 7104, 15169, 20727, -195, 6519, 3214, 8077, 1801, 12634, 6909, 2326, 9670, 7602, 7443, 11675, 29484, 6922, 7962, 4335, 20138, 7100, 3192, 2766, -744, -174, 3086, 3651, 13204, 4091, 1060, 1803, 3827, 2243, 3401, 1930, 3035, 5007, 17672, -282, 8460, 6503, 4409, 4996, 1259, 17056, 3012, 11350, 2886, 3469, 6424, 5191, 6410, 6237, 2793, 9895, 1518, 16649, 9009, 19796, 3097, 3559, 13711, 5314, 6290, 6059, -35, 7741, 3379, 1782, 7900, 1021, 3552, 2475, 1019, 19391, -1001, 14462, 1735, 4173, 20580, 5276, 3167, 760, 4069, 4254, 8903, 6889, 11998, 1982, 3406, 12132, -1011, 1968, 8669, 6316, 6463, 5171, 44128, 4976, 36935, 7944, 2410, 41242, 3252, 5119, 9935, 5347, 6873, 17118, 1181, 16125, 37176, 19313, 19447, 9916, 3105, 4119, 2058, 6080, 7384, -525, 13015, 1817, 20179, 5301, 13851, 13354, 20932, 5784, 3643, 24498, 2594, 2083, 3017, 3300, 7813, 4718, 817, 5728, 3816, 23663, 7708, 22520, 1751, 2731, 14522, 17924, 3283, 6385, 2856, 7641, 3436, 8017, 6158, 5711, 2633, 4418, 6673, 5423, 3072, 12704, 22125, 15423, 22569, 7825, 2235, 20798, 6825, 3495, 6808, 8265, 736, 4932, 4127, 1899, 9317, 2816, 4162, 2134, 9366, 6746, 1509, 1438, 2707, 9421, 4842, 2506, 1442, 1445, 1351, 1961, 3338, 12018, 1122, 2561, 167, -607, 2725, 1096, 5978, 1874, 4557, 1796, 1918, 4130, 695, 2346, 4638, 1638, 2880, -259, 1770, 1073, -155, 4959, 3360, -185, 1927, 1418, 3914, -144, 954, 892, 1000, 4634, -101, -452, 1274, 3578, 2045, 998, -53, -346, -422, 6683, 1745, 3060, 2500, 1277, 1554, 1639, 6447, 4579, 1962, 7803, 3053, 908, 3949, 7560, 6421, 2501, 4831, 8141, 3767, 495, 2325, -207, 3962, 2103, 10451, -481, -508, 1414, 7822, -624, 2557, 5437, 3857, 5701, 6016, 15161, 2841, 6236, 13297, 1534, 7289, 1948, 5803, 2439, 11093, 2803, 8037, 2915, 8118, 2170, 1291, 2442, 23494, 1303, 2814, 1369, 5874, 1606, 3461, 5082, 3026, 3685, 14889, 6162, 1067, -534, 1974, 1957, 20772, 2189, 7990, 3805, 6817, 2937, 2853, 1320, -30, 4253, 3908, 2700, 1042, 4383, 4803, 840, 1251, 17747, 3172, 2651, 14344, 2648, 2849, 6684, 26721, -780, 2953, 1099, 6251, -491, 2281, 1228, 3342, 506, 1397, 2361, 2722, 5563, 6101, -1455, -369, 616, 5927, 1140, 3444, 2242, 749, 938, 1815, 4987, 164, 19985, 8627, 4736, 26831, 2732, 2603, 5689, 11862, 2152, 4991, 3733, 8749, 2332, 5355, 5359, 15459, 807, 3730, 1641, 924, 2489, 7802, 6571, 2750, 3634, 5267, 4276, 1176, 6610, 4606, 1381, 5367, 2881, 32685, 1030, 3698, 2539, 4808, 2681, 4461, 8929, 1332, 5810, 5157, 10768, 4886, 3407, 3665, 8866, 2786, 6651, 1292, 2245, 11385, 689, 9676, 3663, 2855, 9324, 6468, 1075, 6771, 798, 7010, 3561, 5958, 5619, 8750, 1947, 7608, 10469, -39, 2772, -2712, 1683, 5417, 2869, 1997, 11891, 7263, 11767, 2068, 8623, 2693, 4661, 1389, 4726, 1420, 3315, 781, 2544, 987, -318, 1548, -961, 1599, 5271, 13669, 4659, 1528, 2384, 4020, 11387, 2290, 2687, 2523, 3751, 1524, 1617, 1943, 13546, -3058, 5795, 2273, 3217, -109, 2945, 2025, 7785, 3392, 4082, 1294, 3241, 6637, 928, 17335, -362, 2974, 1984, 6700, 1822, 1457, 3203, 6807, 1306, 21024, -235, 7255, 11968, 7303, 1586, 1686, 5169, 10086, 1973, 4629, 2144, 4174, 5110, 10281, 10072, 2991, 4099, 3377, 4328, 2395, 3287, 6770, 2376, 3446, 6791, 3382, 7345, 2845, 4003, 956, 4401, 2487, 5106, 3567, 1851, 1812, 31630, 2016, 3511, 4733, 5462, 1818, 5341, 1162, 2990, 4539, 2753, 27696, 4041, 36252, 7628, 9001, 3848, 10596, 589, 15311, 5047, 2955, 59649, 4129, 1950, 13450, 1644, 7918, 4451, 6116, 1991, 2161, 14220, 1676, 13887, 2380, 2817, 2756, 1179, 1704, 14352, 13774, 3585, 3902, 6551, 845, -372, 790, 5935, -674, 818, 1685, 1378, 4080, 5699, -390, 2248, 2573, -349, -358, -457, -333, 8486, 1142, -60, -509, 1877, -209, -99, -331, 5435, -106, 5090, 3397, 660, -366, -150, 848, -131, 3047, 1001, -329, -203, 7624, 58544, -932, -32, -500, -212, 2710, 8266, 2527, -97, -947, -147, 5611, 5903, 2151, 3058, 4586, 7317, -95, -617, -339, 6322, 1824, 2850, 5873, -138, 1376, 5034, -13, -118, -88, -320, -286, -116, 1656, -1124, -665, -133, -135, -175, 4471, 1261, -356, 6809, -228, 683, 3986, 6411, -407, -435, -294, -220, -257, 18722, 4785, -278, 3867, 2963, -454, -439, 6890, 3675, 951, -284, -72, -219, 5028, -475, -260, -189, -18, -474, -759, 650, -541, -428, 24299, -1664, -122, -423, -846, 2363, 955, 4646, 7495, 3960, 4478, 3132, 8680, -371, 1916, 26765, 3478, 12061, 6958, -745, 8206, 3790, 29312, 1940, 3108, 2626, -238, 3346, 2429, 3111, 2236, 3923, 2121, 7378, 1516, 6085, 4135, 4505, 2956, 8417, 1521, 15801, 2639, 5700, 3028, 2775, 7373, 829, 1765, 2535, 6874, -1300, 2285, 6943, 3455, 2607, 3240, 3545, 4248, 7180, 4906, 8982, 10749, 7695, 6050, 6911, -115, 1811, 6532, 9131, 15740, 5961, 1487, 1427, 5678, 2631, 1794, -1196, 2612, 4464, -406, 56831, 2040, 5006, 3269, 1894, 4157, 3381, 1705, 9359, 1913, 5618, 3714, 3216, 8150, 2354, 2192, -394, 3583, 1865, 1178, 9077, 953, 7475, 2219, 2796, 6526, 9039, 3008, 1779, -628, 4520, 3061, 3657, 2256, 2201, 772, 3033, -720, -237, 4541, -382, 6258, 8837, 5558, -507, 1688, 961, 1053, -142, -613, -306, -1400, -656, -650, -416, 2073, 4956, 4166, 978, 2055, 3608, 12210, 2402, -848, -1249, 4667, 3259, -19, 12697, 4378, 2718, 1827, 6042, -46, -754, 2993, 754, 3196, 6353, -288, 3457, 3855, 1211, 9714, 1484, 919, 3992, 3524, 4111, 7449, 2231, 3776, 4438, 4482, 1861, 3175, 4622, 3750, 7579, 4635, 3187, 4648, 4434, 5499, 3997, 9374, 2036, 2054, 8132, 4011, 3763, 2042, -313, -93, -242, 11697, 5064, 5607, 7171, 2038, 1298, 1797, 4963, 7313, 1581, 1787, 5436, 5058, 2852, 2390, 5143, 5731, 3067, 3514, 3311, 2146, 3834, -224, 821, 8153, 1701, 8629, 5024, 3528, 6982, 4746, 11512, 2490, 3176, -557, -268, 1630, -954, 1157, -872, 1450, 5729, 8784, 13156, 12961, 15341, 1721, 6217, 5304, 3100, 1279, 2034, 1091, -177, -325, 4444, 5252, 5853, -838, -165, 2294, 3298, 1744, 920, -427, 5527, 3326, 1499, 4441, 4369, 3784, 2645, 5902, 2238, 8541, 11423, 6714, 6227, 2459, 4941, 3798, 1883, 9068, 2495, 5745, 3155, -753, -332, 5553, 2080, 2114, -455, -393, 6374, 1358, 3546, -461, 2910, -21, 3144, 2150, 13849, 5517, 4707, 1878, -211, 3622, 7598, -627, -796, -245, -436, -280, -54, 1925, -1701, 19343, -170, -673, -538, -694, 2064, -651, -287, 3429, -424, -545, -473, -110, 2070, -1013, 7216, -330, -140, -415, -579, -566, -576, 1928, -247, -921, -626, 4587, -614, 5888, 5880, 2697, -213, 4030, 4110, -376, -186, 4716, 3344, 3532, 2065, 6471, -870, -463, 3935, 7137, -157, 6758, 2776, -849, -1500, -725, -1040, -663, -641, 4793, -847, -704, 936, 915, 3052, 1539, -438, -437, -549, 2001, -1042, -616, -611, -479, 6429, -735, 5891, -804, -397, -1725, 9713, -254, -684, -1547, -105, 10865, 3620, -732, 1123, 4681, 1964, 5766, 5222, 2751, 3002, -262, 9779, -752, 1386, -839, 8594, 2921, 4590, -403, -279, -648, 3791, 6307, -905, -1310, 16173, 1577, 2954, 7063, -327, -240, 11417, -779, -112, 3636, 9636, 1621, -568, 22008, -504, -314, -480, 5605, 1417, 2926, -36, -971, -675, -938, 22171, -931, -107, -347, -717, -384, -354, -357, 1210, -659, 11269, 1919, 3181, 1903, 6998, 2041, 2895, 3279, 1939, 32948, -972, -939, 11953, -178, 3354, 13761, 4497, 6491, 2608, 22755, 5241, 7098, 7985, 8254, 2798, 2345, 2715, 3049, 3670, 2497, 5342, 5310, -261, 1365, 2940, 885, 3350, 2457, 7712, 3032, 1844, 6332, 1429, 9976, 4299, 3499, -431, 1898, 1959, -599, -338, -389, 5637, 1659, 1607, 8131, 2620, 4178, 8107, -510, 7707, -350, 2647, 6695, 11743, 2062, 2632, 2403, 5115, 4120, 7102, 5724, -443, 25741, 2002, 3224, 12159, 4791, 7019, 4136, 2719, 2153, 2760, 16063, -465, 8238, 1538, 1958, 1771, -47, -540, 2641, 3782, -417, 5210, 10252, 20453, 4236, 2010, 10354, 4182, 3817, 9154, 2107, 3317, 4229, 3027, -368, 4430, 3145, 3854, 2160, 2572, 10177, 3677, -582, -441, 1864, -569, 5137, 4969, -225, 6882, 6205, -940, -414, 2468, 2777, 4860, 6837, -1490, 11639, 2469, -1034, 2891, 2348, -1944, 2854, 2095, 1753, 3071, 1615, -584, 2039, 3806, 1965, 2396, -163, 5078, 3653, -182, 3507, -808, 1569, 7400, 6346, 1826, 9306, -404, 4500, -853, 1219, 1740, -374, -102, 3068, 1370, -523, 2377, 2409, 847, -811, 5789, 2825, 1470, -440, -529, 4978, 4786, 5548, 3126, 3551, 1250, 4986, 2321, -301, 4196, 3412, 14657, -553, 7208, 8637, -580, 3632, 6737, -1601, 3409, 2610, 3173, -639, 2116, -1157, 1360, 5918, 2965, 5828, 2191, 8040, -193, 2268, 3778, -664, 4837, 6831, 3332, 3988, 1233, 2436, -930, 4778, 1761, 28318, -448, 1003, 4527, 7863, 6089, -976, 3309, 2447, 8548, 1863, 5845, 2432, 1587, -169, 2542, 8536, 6095, -531, 7973, 10357, 5885, 1398, 5781, -816, -51, -967, -450, 3573, 3549, -179, 10910, 2791, 6979, 1479, 4062, 3268, 2411, 4974, 878, 5997, 5854, 4872, 6393, 2762, 7531, 11854, 2323, 1977, 5089, -348, 3519, 5757, 5768, 1856, 5909, 7103, 4211, 2761, 1702, 3917, 1670, 2145, 2678, 10133, -1730, 2752, 1299, 2394, -156, -706, 1472, 5482, -472, -1414, 2252, 6971, 8094, 3993, 2208, 5749, 5091, 8015, 4792, 11303, 3471, 4118, 4339, 3748, 7622, 2335, 6312, 1994, 3339, -757, 15511, 2378, 3249, 3487, 3472, 4415, 5029, 4780, 2768, -399, -755, 2525, 3304, -581, 4731, 8558, 6220, 12917, -686, 2550, 2247, -1129, 3019, -711, -691, -887, 4040, 3496, 1708, 2398, 6285, 4309, 12282, -575, 6445, 1960, 5149, 11615, 2423, 7634, -1193, 1695, 13683, -790, 1772, 3070, -605, 4466, 12926, 3909, 3862, 16402, 4408, 6531, -221, 7858, -1621, 8938, 17891, 6010, 4630, 3638, -87, 4084, -574, -505, 7503, -527, 10787, -1202, -12, 4144, -285, 6196, 2008, 2726, 3756, -335, 2514, -82, -489, 4787, 4096, 3423, -159, 9121, 1910, 4209, 2132, 2673, 6536, 3458, 8590, 14363, 4046, 2790, 4820, 6397, 2758, 3231, 4320, 4458, -293, 21515, 1459, 3239, 3277, -1019, 1677, 3924, 3313, 1848, 3258, 2836, -1110, 3823, 1491, 3595, 4053, 45141, 11146, 2899, 8001, 4789, 2936, 3598, 5287, 3430, -571, 3503, 2908, 11671, 5349, 3783, 8114, 2662, -200, 22928, 4639, 2788, 2870, 5521, -1272, 4037, 2215, 3574, 4741, 9618, 6250, -467, 5585, 14000, 11016, -896, 13242, 5201, 3169, 2601, 8592, 10179, 1462, 6975, 3034, 13698, 8412, 3644, 5571, -521, 2932, 3467, 7783, 2897, -519, 8036, 3015, 1367, 2522, 16917, 4056, 4023, 11516, 1846, 1986, 7653, 4840, 13089, 11084, 1560, 3587, 3671, 13551, 2342, 6913, 3664, 4283, 1290, 5305, 5657, 2478, 2082, 2312, 8379, 4848, 18188, 4259, 1610, 5000, 4723, -1185, -918, 6553, 2413, 6215, 2962, 12180, 5270, 4698, 3764, 2445, -272, 2967, 4722, 7265, 5559, 5818, 4322, 5092, 1653, 1989, 7434, 5838, 2703, 1490, 10465, 2355, 9231, -493, 8267, 7798, 10721, 5836, 5744, 17957, 1872, 2128, 5233, 1776, 3916, 2769, 29125, 3236, 20541, 2092, 2524, 7509, 4512, 11972, 6005, 1580, -782, 5735, 2843, 4280, 2674, 7836, 3374, -859, 6053, 2184, 6835, 3054, 5614, 2830, 1860, 1873, 3494, 2057, 4365, 9689, -1746, 5807, 3164, 3260, -771, -494, 5879, 7123, 1500, 10724, 3728, 3832, 5163, 12186, 3394, 13494, 3253, -283, 4601, 6512, 2765, -879, 5597, -1049, -1002, 3765, 2980, 11285, 2968, 4861, 2526, 3129, 14902, 3190, 13054, 2270, 2276, 3492, 10236, 3856, 17339, 4846, 3815, 8652, 21522, -1136, -835, 3242, -153, 8289, 6207, -618, -418, -1680, 2970, -868, 2464, 3280, 5862, 16873, 1664, 2789, 4920, 5993, 4298, 2444, 2467, 27624, 4545, 3554, 5313, 4132, 1662, 2158, 9216, 3570, 4713, 15187, 5666, 4577, 3629, 2567, 9902, 5966, 2543, 2747, 2971, 3189, 1031, 10971, -180, -705, 1155, 6618, 4385, 3369, -1336, 3531, -1139, 13718, -597, -8019, 1507, 58932, -1270, 2284, -594, 1152, 1926, 4314, -400, 12389, 1106, -688, 2322, 13229, 3493, 1508, 1838, 7711, -128, 5068, 4873, 4816, 5758, 4855, 4380, 3180, 6253, 3434, 2621, -2093, -1965, 3422, -728, 10152, 2246, 2023, 9002, 2072, 4597, -890, 9994, 1714, 3386, 5127, 8079, 3527, 13160, -817, -161, -682, 3814, -226, -810, 1749, 2291, 7522, -249, -621, -731, -1386, -352, 10438, 4353, -799, 4389, 7051, 4177, 3420, 2818, -188, -768, 12939, 1905, 5705, 3500, 1305, -1668, 3919, 7032, 4146, -769, 1426, 5639, 14611, -797, -453, 5231, -1164, -643, 3286, 1244, -994, 2668, 9228, 1975, -767, 2341, 6324, 1951, 2311, -412, 3215, -596, -910, 6567, -609, 6687, -433, 4344, -263, -379, 5275, -588, 4790, 2362, -709, 3263, -451, 4101, 5248, 2405, 2299, 6012, 3703, -550, 2156, 8262, 5829, 3761, 2661, 3131, -806, 2502, 3510, 1281, 2702, 1747, -985, 5567, 3226, -66, 4612, 3990, 3485, -635, 5706, -535, 2903, 5505, -603, 2371, 10685, 1915, -646, -77, -2082, 965, 1136, 1655, 2972, 5533, -548, 3933, 3899, -216, 2267, 3305, 3994, -343, 2683, 4763, -685, 2130, 3542, 6114, 3333, -1246, 1563, 5483, 7547, 7225, 9173, 2534, 1525, 2381, 4366, 5934, 6554, 2664, 3297, 5441, -874, 3307, -1451, 7159, 3615, 3438, 10621, 5632, 4372, 1203, 4151, 2862, 3414, 6671, 1302, 2922, 3721, 4664, -444, 5486, 4000, 4194, -1322, 5414, 3536, 5681, 3023, 3267, 13818, 5317, -697, 2924, 3308, 4853, -518, 3936, 4900, 4336, -876, 8758, -1076, 3648, 4487, 4105, -1531, 2554, 4392, 3036, 7365, 7957, 4697, -137, -555, 2677, 5850, 10655, 4153, 5181, 5048, 5132, 9585, 4440, 2066, 4492, 8973, -1091, 13164, 3460, 19690, 5946, 18016, 5084, 9883, 26452, 5312, 1809, 5329, 4189, 1946, 1055, 14968, 6878, 2433, 6699, 5207, 4493, 5601, 2533, 3069, 2730, 5673, 9720, 11655, 2879, 12438, 4725, 1816, 2388, 10888, 5443, 2254, 5953, 2727, 5704, 7020, 4749, 4965, 3151, 1901, 13189, 3973, 3025, 2556, 10757, 5003, -832, 3098, 1738, 10273, 7747, 5569, 9680, 4719, 5733, 4490, -824, 5235, 7487, 6419, 5102, 9608, 5177, 5833, 8229, 12928, 8259, 19348, 7138, 4843, 5266, 2148, 2300, 3577, 2711, 8844, 6086, 1879, 7567, 3184, 1532, 3470, 7876, 11835, 2018, 13834, 4186, 8538, 7742, 4676, 2120, 5219, 9609, 14093, 3927, 2787, 3656, 3533, -777, 19213, 8449, 3243, 1368, 6004, -1854, 2714, 1478, 11431, 3095, 12531, 6325, 14215, 2225, 4367, 3148, 10052, 9146, 9149, 1941, 9139, 6170, 10054, 25947, 3562, 13238, 6376, 8332, 2686, 5574, 6703, 4610, 2782, 3579, 3322, 3264, 4263, 31868, 2705, 8136, 3586, -1041, 4971, 4914, 3398, 3396, 3324, 8121, 1404, 23876, 14148, 4994, 2914, 12177, 3701, 4772, 2119, 2214, 3278, 17206, 2122, 7369, 4133, 12584, 5401, 1687, 3345, 3048, 7649, 2244, 10890, -432, 7621, 11305, -420, 23495, 7907, 13165, 857, 5809, 4990, 2861, 4709, 6264, 26394, 1083, 5380, 1461, 2255, 4300, 5535, 1578, 17555, 9645, 3558, 1647, -1459, 2541, 5118, -1545, 4073, 7870, 3207, 2873, 2179, -997, 6288, 1645, 6171, 3501, 3588, 3490, -708, 8480, 2595, -852, 4800, 4695, 13099, 19317, 7386, 4829, 9064, 6983, 6400, 5361, 2046, 3450, 1853, 5296, 3138, 7633, 6843, 2859, 4833, 4147, 4083, 5871, 4068, 6728, 5584, 8494, 3056, 1719, 5303, 24556, 5346, 10250, 2329, 6036, 26233, 2917, 7111, 7469, 3702, 4017, 2338, 4079, 6481, 2779, 14646, 2815, 11240, 3213, 2230, 7038, 16353, 1970, -942, 8230, 8648, 7162, 2598, 5447, 1469, 2655, 1084, 5249, 4403, 4962, 7089, 12226, 5564, 20187, 4230, 4544, 3735, 4005, 17092, -637, 22341, -741, 3684, 3018, 10378, 4508, 4819, 4856, 16517, 13931, 4463, 7530, 14412, 8491, 5811, -934, 2115, 7848, 18777, -1361, 12845, 16397, 17655, 8600, 6362, 11887, 2746, 26172, 4428, 2141, 5816, 5957, 4885, 3572, 6188, 5674, 7623, 3845, 8781, -998, 3584, 5964, 6043, 4845, 1760, 1886, 16869, 16358, 3136, -430, 6851, 2878, 10218, 4475, 9102, 2615, 8876, 11524, 8309, 6337, 4480, 18268, 7558, 8004, 6077, 8863, 11494, 3851, 3080, 8619, 2628, 5610, 2052, 3204, 12737, 4770, 6933, 3780, 1543, 3910, 16486, 4613, 17769, 3123, 8399, 8979, 6767, 20600, 5562, 2426, 1547, 4902, 3364, 6402, 6993, 2913, 4420, 4711, 10395, 5551, 8545, 11462, 6994, 7541, 3736, 3999, 8859, 1976, 10021, 4341, 5806, 8032, 8180, 8892, 8152, 1888, 8957, 10834, 4269, 9774, 4888, 11386, 3929, 20451, 3166, 10386, 10735, 14387, 16489, 5250, 6754, 10142, 8112, 7773, 3605, 7704, 2591, 7928, 3863, 10667, 9911, 6888, 10287, 3102, 21854, 7426, 8785, 5039, 7429, 3829, 5560, 3720, 4760, 4894, 2574, 6981, 14679, 7696, 1546, 8899, 2994, 11839, 3658, 7119, 12270, 5075, 7518, 7464, 7242, 2304, 18508, 1896, 4404, -490, 4925, 9049, 3540, 7108, 5220, 8101, 4094, 4619, 14144, 4642, 4117, 3959, 5626, 6107, 5739, 8043, 4536, 27446, 22196, 8689, 2948, 14440, 8381, 29207, 13489, 6710, -1122, 5600, 7766, 4402, 1835, 2811, 3266, 6900, 57435, 11287, 4457, 6157, 16178, 5129, 6438, 2352, 16236, 9898, 2466, 36221, 5996, 1971, 4764, 9319, 9531, -264, 8883, 4412, 10541, 6279, 3417, 3114, 5695, 5715, 4198, 6100, 13658, 4721, 7105, 6963, -593, 3662, 3945, 3869, -1089, -321, 4769, 10536, 2735, 1955, 2202, 3405, 3982, 5742, 2992, 17418, 2180, 4859, 5021, 2493, 3904, 18967, 2091, 4519, 2162, -1317, 6857, 7984, 4317, 6745, 4930, 3156, 5315, 5372, 6112, 8626, 5797, 5061, 44134, 6178, -515, 11371, 13565, 1921, 4391, 6132, 7408, 10613, 4126, 7895, 12495, 6915, 1774, 5737, 3270, 4554, 7357, -812, 2740, 7433, 6106, 3358, 14850, 4588, 2663, 3247, 2780, 8104, 3977, 3030, 6492, 5679, -462, 2174, 17609, 5608, 2981, 2232, 4700, 4047, 23878, 2509, 3427, 23421, 3310, 4448, 4807, 3219, 4562, 10180, 5763, 4447, 6422, 9329, 5916, 10185, 6706, 9601, 3858, 2833, 7336, 3195, 2896, 12980, 4608, 5780, 13408, 5005, 4910, 10200, 8666, 3676, 3740, 17441, 1885, 3568, 2484, 3323, 20806, 12039, 11555, 1443, 2614, 6533, 5396, 5467, 15485, 4394, 6662, 2689, 11174, 3612, 21446, -464, 13654, 2669, 8311, 2964, 3771, 9610, 2511, 5012, 6627, 2415, 7048, 5354, 2264, 4795, 7107, -447, 4771, 8148, 2200, 9305, -487, 4887, 16727, 20011, 17332, 3044, 1334, 4240, -865, 3870, 3884, -895, 2111, 9698, -1006, 2358, -632, 6947, 10925, 9480, 3792, 5193, 7604, 20723, 6690, 5583, 3403, 1737, 4684, 4287, 2129, 5802, 36686, 3079, 12264, 5083, 1992, 1229, 3006, 7203, 6199, 6850, 4744, 17739, 6046, 4775, 1711, 4680, 8165, 6403, 17458, 4384, 45248, 2434, 4246, -532, 1481, -1445, 3373, 4871, 3652, 10600, 4370, 7864, 3965, -171, 9051, 6482, 17983, 2177, 4822, 18347, -619, -310, -598, 3557, 5172, 15578, 9687, 5801, -715, -442, 5368, 9328, 2882, 2090, -1092, 6013, 4311, 3208, 2418, -1050, 6141, 3940, 4318, 10855, 19850, 2754, 10285, 3303, 12001, 6020, 2367, 7561, 2056, 8345, 2952, 5543, 2982, 5095, 4075, 6622, 5830, -501, 4330, 4244, 4148, 6313, 4204, 2961, -1137, 9669, 3075, 6859, 9246, 9716, 6360, 8319, 14533, 2009, -492, 2911, 12245, 2736, 2113, 10189, 9004, 5920, -933, 5624, 5176, 8605, 4413, 13265, 1665, 4481, 15681, 20584, 2391, 5640, -570, 6145, -923, -742, 5511, 23592, 21244, 7337, 2834, 6134, 4535, 64343, 15088, 7586, 3563, 2449, 5421, 17297, 3413, 7175, 2499, -506, 7819, 4092, 4290, 2794, 4623, 7585, 6320, 19268, 3912, 5847, 5827, 4583, 12839, 3428, 6451, 6929, 5338, 3498, 9110, 7245, 9252, 4223, 2906, 7861, -1085, 3938, 2822, 3534, 7482, 10332, 9224, 18881, 5901, 8919, 19706, 2701, 11298, 2709, 7702, 3274, 2021, 4468, 8674, 2923, 7826, 8860, 5043, 4137, 4095, 13562, 11115, 2986, 11632, 4565, 4070, 7601, -680, 2590, 7459, 9569, -864, 2581, 1862, 6386, 2665, 13308, 5356, 1460, 2477, 4998, 5154, 4666, 7831, 3641, 2097, 1542, 11317, 7735, 6439, 5774, 5131, 2217, 1620, 2212, -1385, 2623, 2933, 5788, 2562, 4015, 3705, 7727, 6110, 8318, 8167, 7934, 8806, 2407, 14752, 3722, 6489, -740, 4897, 8135, 8291, 6969, 3512, 7406, 29050, 4499, 5643, 3468, 5366, 2003, 3744, 4009, 9194, 3888, -587, 2720, -544, 9894, 5151, 6575, -683, 8326, 3004, 8298, 7304, 3198, 2176, 3955, 3753, -1489, 10045, 3112, 4585, -1168, 6614, -636, 3693, 9367, 6212, 5872, 2829, -738, 9262, 10924, -786, 4031, 6242, 2386, 9083, 5130, 11686, 7279, 4592, 15035, 4227, 4406, 2315, -966, 8654, 3051, 4602, 10191, 4260, -747, 4382, 12198, 5038, 4531, -583, -1480, 2507, 3868, 3433, 8263, -537, -511, -854, -589, 2958, 7982, 5839, 4281, 13052, 5278, 8251, 8562, 12848, 3594, 4674, 9059, 8127, 22018, 8313, 52499, 4830, 7082, 5098, 10442, 5418, 9200, 2997, 4362, 7027, 4289, 16431, 7372, 2569, 22856, 4895, 4222, 7880, 17413, 4903, 4997, 5501, 7496, 3376, 10333, 13117, 3230, 2295, 7080, 8894, 2234, 7298, 4138, 5427, 3073, 6317, 4949, 7811, 5908, 2636, 4232, 13292, 21292, 4882, 4641, 15352, 3680, 5050, 5914, 7938, 2138, 5799, 25824, 6091, 2491, 5279, 3957, 1551, 3942, 5173, 5348, 12130, 7451, 10662, 10183, 5109, 2860, 3062, 3388, 4899, 6955, 15477, 10984, 5052, 8403, 4134, 6298, 4086, 3715, 5299, 2587, 29184, 7264, 4805, 4850, 9301, 9444, 3372, 4140, -834, 4442, 4488, 4453, -677, 2483, 1821, 3113, 4387, 2538, -1818, 2456, 5442, 6570, 4758, 4279, 5116, -460, 4443, 8918, 8873, 13930, 7041, -631, 4295, 2927, 10628, 3293, 6535, 1792, 6187, 8218, 7781, 11904, 8603, 8725, 5491, 7879, 5944, 15515, 6280, 3400, 4424, 13118, 2221, 6812, 4108, 3462, 3149, 10772, 9997, 9304, 3786, 13338, 6753, 2112, 9622, 7353, 1642, 4158, 6691, 3334, 2118, 3262, 8163, 66653, 3206, 9202, 8139, 9804, -644, 2653, -1217, 2324, 2584, 9346, 4354, 6271, -546, 5188, 7134, 2275, 7073, 6343, 10150, 3918, 5603, 7881, 6762, 4450, 21614, 4605, 12767, 5539, 10394, 6991, 5805, 16432, 10253, 11262, 24277, 3504, 12519, 7424, 71188, 2579, 8692, 10889, 12067, 7945, 8278, 8729, 4593, 7673, 2165, 3970, 5776, -2604, -2122, 3074, 10443, 6286, 4103, 6427, 6191, 8583, 3953, 12618, 6839, 7800, 2293, 7396, -483, 10697, 6904, 5393, 5972, 8489, 13620, 4121, 2339, 5746, 6596, 16119, 2675, 3550, 12705, 13836, 3710, 7724, 4581, 5461, 3803, 3859, 3774, 4712, 5206, 6150, 7195, 3314, 4503, 9750, 13901, 29397, 2618, 3451, 6056, 5787, 8434, 8044, 2863, 2282, 3624, 4007, 8025, 4274, 8585, 2743, 5717, -1161, 2795, 5126, 8990, 5496, 2713, 4967, 3881, 7351, 19102, 9160, 3738, 5798, 3103, 15261, 3349, 12114, 4657, 7613, 37127, 8465, 2027, 1419, 4066, 5949, 3752, 11066, 5445, 7685, 2301, 5542, 3688, 1892, 15841, 6677, 3873, 3391, 8556, 7468, 7791, 2969, 5236, 4599, 26965, 5861, 6538, 10943, 4847, 4416, 10346, 4745, 9299, 3399, 4572, 81204, 2337, 7780, 8339, 34230, 6815, 2182, 3646, 15030, 12392, 3695, 4869, 8023, 23076, 12356, 9756, 2461, 4533, 5114, 4124, 7546, 18931, 3591, 6784, 7974, 8205, 9339, 18558, 3459, 4014, 6432, 4312, 4809, -969, 6513, 7114, 13874, 3654, 5452, 6707, 3157, 9447, 7331, 8366, 2108, 6182, 20928, 11177, 4954, 7066, 9277, -1329, -667, 8950, 17023, 1931, 23047, 29941, 3276, 6844, 10905, 5631, 6879, 4826, -1882, 4591, 9347, -982, 8515, 10041, 5133, 5045, 10406, 15474, 5293, 9047, 15120, 8554, 12401, 4922, 19833, 4645, 5196, 2060, 8444, 4867, 8826, 7118, 6921, 2691, 10788, 4727, 1935, 6352, 10558, 2755, 8334, 29080, 10776, 14204, 3046, 10374, 6718, 29340, 5076]</span>"
      ],
      "text/plain": [
       "<IPython.core.display.Markdown object>"
      ]
     },
     "metadata": {},
     "output_type": "display_data"
    },
    {
     "data": {
      "text/markdown": [
       "<span style='color:#ce00ce'><br></span>"
      ],
      "text/plain": [
       "<IPython.core.display.Markdown object>"
      ]
     },
     "metadata": {},
     "output_type": "display_data"
    },
    {
     "data": {
      "text/markdown": [
       "<span style='color:#ce00ce'>housing:</span>"
      ],
      "text/plain": [
       "<IPython.core.display.Markdown object>"
      ]
     },
     "metadata": {},
     "output_type": "display_data"
    },
    {
     "data": {
      "text/markdown": [
       "<span style='color:#ffffff'>[1, 0]</span>"
      ],
      "text/plain": [
       "<IPython.core.display.Markdown object>"
      ]
     },
     "metadata": {},
     "output_type": "display_data"
    },
    {
     "data": {
      "text/markdown": [
       "<span style='color:#ce00ce'><br></span>"
      ],
      "text/plain": [
       "<IPython.core.display.Markdown object>"
      ]
     },
     "metadata": {},
     "output_type": "display_data"
    },
    {
     "data": {
      "text/markdown": [
       "<span style='color:#ce00ce'>loan:</span>"
      ],
      "text/plain": [
       "<IPython.core.display.Markdown object>"
      ]
     },
     "metadata": {},
     "output_type": "display_data"
    },
    {
     "data": {
      "text/markdown": [
       "<span style='color:#ffffff'>[0, 1]</span>"
      ],
      "text/plain": [
       "<IPython.core.display.Markdown object>"
      ]
     },
     "metadata": {},
     "output_type": "display_data"
    },
    {
     "data": {
      "text/markdown": [
       "<span style='color:#ce00ce'><br></span>"
      ],
      "text/plain": [
       "<IPython.core.display.Markdown object>"
      ]
     },
     "metadata": {},
     "output_type": "display_data"
    },
    {
     "data": {
      "text/markdown": [
       "<span style='color:#ce00ce'>day:</span>"
      ],
      "text/plain": [
       "<IPython.core.display.Markdown object>"
      ]
     },
     "metadata": {},
     "output_type": "display_data"
    },
    {
     "data": {
      "text/markdown": [
       "<span style='color:#ffffff'>[5, 6, 7, 8, 9, 12, 13, 14, 15, 16, 19, 20, 21, 23, 26, 27, 28, 29, 30, 4, 11, 18, 22, 25, 10, 17, 31, 2, 3, 24, 1]</span>"
      ],
      "text/plain": [
       "<IPython.core.display.Markdown object>"
      ]
     },
     "metadata": {},
     "output_type": "display_data"
    },
    {
     "data": {
      "text/markdown": [
       "<span style='color:#ce00ce'><br></span>"
      ],
      "text/plain": [
       "<IPython.core.display.Markdown object>"
      ]
     },
     "metadata": {},
     "output_type": "display_data"
    },
    {
     "data": {
      "text/markdown": [
       "<span style='color:#ce00ce'>duration:</span>"
      ],
      "text/plain": [
       "<IPython.core.display.Markdown object>"
      ]
     },
     "metadata": {},
     "output_type": "display_data"
    },
    {
     "data": {
      "text/markdown": [
       "<span style='color:#ffffff'>[261, 139, 217, 380, 164, 296, 230, 336, 355, 363, 253, 179, 174, 104, 138, 91, 528, 273, 246, 426, 101, 197, 400, 190, 849, 364, 178, 175, 125, 46, 2033, 181, 99, 673, 313, 146, 562, 142, 98, 256, 286, 42, 251, 168, 127, 27, 232, 39, 119, 113, 58, 89, 152, 189, 310, 2, 120, 83, 132, 148, 111, 316, 421, 396, 350, 158, 306, 218, 290, 1201, 149, 114, 43, 326, 393, 496, 118, 185, 87, 765, 112, 451, 162, 323, 264, 278, 374, 136, 157, 211, 221, 145, 289, 352, 135, 65, 339, 389, 170, 241, 262, 392, 524, 312, 226, 346, 283, 95, 172, 1529, 314, 55, 206, 122, 343, 406, 191, 35, 720, 70, 141, 131, 275, 953, 416, 105, 477, 228, 359, 97, 184, 109, 204, 233, 254, 193, 126, 294, 463, 192, 378, 401, 435, 245, 68, 36, 19, 1581, 117, 650, 48, 349, 224, 103, 96, 153, 381, 764, 134, 62, 564, 244, 1689, 1102, 297, 238, 239, 943, 1040, 1084, 693, 20, 202, 80, 159, 187, 106, 12, 214, 60, 128, 155, 255, 249, 81, 124, 665, 160, 82, 475, 64, 156, 362, 1007, 237, 50, 72, 130, 756, 108, 205, 161, 491, 44, 422, 219, 369, 234, 2087, 66, 453, 240, 335, 21, 67, 110, 92, 8, 84, 399, 341, 123, 272, 40, 466, 423, 166, 287, 94, 274, 357, 483, 59, 198, 45, 18, 480, 93, 207, 331, 133, 200, 324, 280, 150, 388, 530, 24, 247, 1170, 61, 338, 1461, 116, 107, 229, 330, 26, 51, 260, 878, 263, 77, 328, 154, 1534, 345, 1002, 76, 282, 167, 102, 757, 405, 325, 53, 281, 140, 1495, 225, 1266, 391, 163, 41, 248, 456, 1875, 186, 143, 227, 182, 514, 267, 449, 375, 500, 568, 618, 427, 213, 147, 31, 683, 470, 129, 853, 518, 813, 916, 708, 535, 54, 195, 34, 151, 194, 379, 322, 69, 492, 137, 188, 1328, 243, 220, 298, 452, 351, 429, 299, 438, 521, 784, 57, 850, 180, 354, 668, 242, 183, 382, 738, 279, 86, 288, 305, 100, 73, 71, 203, 1088, 1036, 30, 165, 74, 231, 236, 348, 1244, 657, 344, 525, 759, 815, 911, 995, 1224, 809, 317, 523, 293, 320, 177, 512, 601, 387, 803, 676, 49, 537, 360, 169, 22, 489, 865, 412, 703, 433, 199, 897, 461, 411, 270, 1161, 16, 208, 337, 788, 698, 806, 303, 476, 1297, 4, 409, 257, 546, 333, 329, 7, 88, 457, 210, 458, 1622, 967, 332, 886, 1218, 201, 38, 394, 265, 434, 121, 774, 318, 638, 473, 347, 717, 415, 742, 999, 413, 216, 292, 446, 144, 1287, 414, 171, 692, 482, 56, 554, 432, 52, 490, 63, 370, 958, 85, 311, 502, 250, 828, 786, 509, 1091, 418, 1307, 304, 836, 315, 506, 588, 572, 269, 443, 1697, 860, 474, 222, 575, 634, 935, 291, 385, 736, 534, 319, 268, 173, 390, 25, 556, 448, 302, 28, 824, 469, 301, 209, 539, 373, 493, 597, 937, 569, 372, 75, 215, 1222, 1066, 79, 367, 14, 212, 90, 596, 536, 1560, 895, 445, 796, 471, 695, 603, 1272, 425, 488, 777, 308, 277, 955, 740, 33, 78, 395, 498, 513, 591, 29, 383, 3, 15, 662, 342, 938, 176, 430, 497, 675, 648, 864, 882, 259, 1277, 361, 300, 37, 578, 358, 223, 410, 932, 789, 558, 553, 1611, 725, 386, 1363, 645, 447, 917, 659, 327, 115, 417, 763, 724, 1269, 565, 510, 47, 371, 1500, 340, 984, 384, 922, 949, 365, 9, 520, 495, 494, 17, 604, 838, 196, 623, 811, 397, 876, 1101, 767, 1131, 487, 402, 1489, 467, 787, 667, 686, 606, 923, 549, 334, 1046, 609, 1148, 542, 309, 580, 1391, 11, 252, 440, 1448, 428, 398, 235, 716, 721, 505, 608, 798, 1001, 507, 442, 527, 775, 899, 793, 585, 734, 444, 459, 368, 649, 420, 974, 925, 23, 646, 691, 441, 460, 647, 901, 637, 730, 404, 858, 13, 1111, 582, 1068, 722, 10, 700, 577, 567, 6, 715, 431, 566, 867, 915, 1064, 615, 640, 1346, 258, 32, 522, 620, 508, 376, 550, 526, 517, 658, 266, 966, 479, 1576, 579, 366, 680, 633, 589, 276, 599, 1336, 735, 462, 1138, 1449, 285, 570, 1149, 1123, 590, 869, 486, 377, 1288, 639, 545, 1085, 464, 540, 952, 1137, 893, 694, 586, 450, 516, 904, 1290, 1010, 403, 753, 651, 437, 993, 1141, 1243, 741, 644, 1089, 1021, 607, 353, 2769, 881, 605, 1162, 1051, 1345, 408, 2621, 1208, 906, 1029, 1540, 802, 1195, 1060, 2485, 677, 574, 2028, 559, 835, 792, 1210, 485, 1098, 1573, 560, 1617, 519, 1422, 652, 407, 988, 271, 529, 295, 761, 690, 593, 656, 617, 800, 1603, 971, 5, 544, 2389, 671, 1992, 1135, 660, 889, 643, 532, 1467, 511, 733, 1082, 454, 1720, 990, 1121, 1156, 1014, 630, 783, 478, 563, 1187, 439, 1120, 970, 963, 1389, 919, 1153, 455, 1062, 894, 805, 503, 820, 555, 1083, 543, 547, 689, 873, 885, 924, 1432, 1656, 284, 818, 1183, 795, 654, 321, 1390, 1319, 1018, 770, 610, 602, 674, 642, 595, 1127, 1360, 837, 799, 1139, 472, 856, 533, 854, 678, 356, 857, 862, 833, 985, 1134, 551, 419, 1077, 702, 1833, 611, 681, 307, 870, 884, 1331, 1327, 1359, 1441, 1491, 1206, 823, 631, 780, 1820, 1173, 552, 1602, 728, 1209, 571, 1106, 743, 697, 1031, 653, 664, 819, 1009, 874, 2516, 619, 851, 863, 1037, 814, 729, 436, 1165, 1567, 1259, 812, 548, 612, 843, 1739, 744, 1212, 632, 531, 704, 1284, 896, 752, 942, 1486, 1488, 1109, 1536, 1311, 875, 592, 996, 1357, 902, 898, 501, 641, 1249, 499, 685, 1456, 587, 666, 1462, 973, 504, 1321, 797, 3422, 1182, 669, 1000, 848, 1070, 699, 1144, 1242, 481, 1080, 1015, 1282, 1103, 1133, 1650, 1092, 1344, 978, 781, 913, 940, 711, 1476, 846, 737, 871, 1314, 713, 832, 1217, 635, 3322, 1151, 636, 1579, 773, 762, 515, 1126, 950, 1241, 696, 1059, 1032, 561, 921, 1408, 625, 776, 1532, 1026, 719, 1877, 794, 576, 739, 705, 944, 1258, 1809, 557, 714, 661, 961, 484, 731, 748, 1223, 581, 1033, 976, 1176, 583, 908, 709, 600, 975, 465, 1117, 726, 801, 2027, 928, 624, 622, 1179, 3253, 1226, 679, 808, 1246, 1410, 4918, 890, 1531, 1164, 613, 1034, 1437, 727, 1329, 920, 989, 1377, 1554, 723, 621, 1283, 1265, 1662, 782, 844, 1816, 1256, 931, 1490, 1166, 790, 1221, 614, 710, 1074, 980, 834, 1571, 663, 855, 1067, 1914, 977, 956, 1387, 468, 706, 872, 1972, 1745, 1199, 965, 968, 1473, 866, 1451, 1169, 1086, 655, 626, 670, 2256, 845, 1635, 841, 1776, 541, 1294, 1078, 772, 1381, 1837, 1017, 1960, 1423, 1192, 912, 1541, 616, 629, 1447, 2330, 1081, 684, 1196, 2870, 1012, 1022, 594, 1184, 847, 779, 584, 830, 1373, 712, 1093, 1143, 688, 1353, 1298, 1666, 1492, 1042, 1056, 746, 1030, 769, 424, 1677, 918, 1906, 1597, 852, 732, 1521, 2177, 1574, 1119, 982, 807, 627, 672, 826, 598, 929, 538, 825, 1692, 2016, 1054, 1713, 750, 1178, 1147, 891, 1727, 907, 1386, 3366, 2231, 1167, 766, 1052, 816, 1721, 1125, 760, 829, 749, 927, 628, 1044, 2241, 1118, 747, 1204, 1013, 755, 1257, 964, 1392, 1867, 1263, 1252, 754, 1340, 1128, 827, 1193, 1023, 1245, 1203, 1205, 1882, 1777, 1376, 1045, 905, 951, 1409, 573, 1094, 987, 785, 1073, 1003, 926, 1099, 682, 745, 1234, 1446, 1063, 751, 3094, 1168, 821, 1730, 791, 1236, 1207, 768, 1185, 859, 2260, 1097, 1343, 1090, 1130, 1100, 954, 1079, 1369, 1957, 1191, 877, 831, 892, 1262, 1049, 930, 1232, 0, 1388, 1108, 1970, 1805, 1279, 1180, 1129, 888, 1181, 1452, 1286, 1380, 1871, 903, 2301, 1880, 1075, 758, 707, 941, 771, 1025, 959, 1516, 1053, 1005, 1865, 817, 1302, 939, 1276, 1994, 1330, 1469, 1291, 1055, 3881, 718, 948, 1159, 1268, 1323, 1395, 1248, 986, 979, 1365, 1528, 1487, 1255, 1318, 2635, 1663, 804, 3183, 1460, 1048, 1087, 1543, 983, 1407, 957, 840, 1200, 2201, 1767, 1061, 687, 861, 1011, 1426, 998, 1341, 2029, 1399, 1973, 1649, 1397, 1669, 1271, 778, 981, 1424, 1142, 1412, 1150, 1019, 1039, 1339, 1171, 1275, 1008, 1027, 1584, 991, 909, 1425, 1105, 936, 1342, 1352, 1545, 1237, 1608, 1152, 2078, 1124, 1309, 1417, 1484, 1869, 810, 947, 1096, 1076, 1569, 1058, 1140, 962, 1107, 1110, 1113, 1227, 1250, 1834, 1306, 994, 1238, 933, 1687, 1504, 1613, 1735, 1842, 1293, 1740, 1464, 1503, 946, 1374, 1642, 1028, 3785, 3284, 1580, 1707, 1239, 1789, 1303, 1606, 1978, 1855, 1502, 1792, 1468, 1035, 972, 1145, 2420, 1598, 945, 1158, 1555, 1556, 997, 2150, 1600, 914, 2770, 1296, 1136, 701, 1420, 1393, 1404, 1416, 1261, 969, 1213, 2775, 3102, 1971, 3076, 1859, 1, 1665, 1006, 1372, 1038, 1366, 1463, 1202, 1112, 1817, 2055, 879, 992, 1334, 1419, 1623, 1273, 868, 1812, 1403, 1041, 1310, 1806, 1508, 1186, 900, 2429, 1132, 1333, 1348, 1778, 2462, 1553, 1231, 1230, 3078, 1681, 1349, 1438, 880, 1980, 1240, 1114, 1966, 1975, 1020, 2456, 1519, 910, 1558, 2653, 2093, 1478, 1434, 1439, 1499, 1175, 1220, 1946, 2015, 1368, 1211, 2692, 2191, 1471, 1934, 1364, 1559, 2372, 1225, 2187, 960, 1122, 1057, 1154, 2453, 1917, 1431, 3025, 1790, 2053, 1661, 1332, 1550, 839, 1723, 822, 1095, 1702, 1628, 2062, 1370, 1616, 1835, 1563, 1925, 1710, 1472, 1916, 1190, 1104, 1065, 1804, 1174, 1548, 1347, 1024, 1514, 2219, 1361, 883, 1337, 1435, 2184, 2129, 1962, 1551, 1405, 1254, 934, 1313, 1233, 1823, 1658, 1160, 1047, 1691, 1594, 1440, 1512, 1326]</span>"
      ],
      "text/plain": [
       "<IPython.core.display.Markdown object>"
      ]
     },
     "metadata": {},
     "output_type": "display_data"
    },
    {
     "data": {
      "text/markdown": [
       "<span style='color:#ce00ce'><br></span>"
      ],
      "text/plain": [
       "<IPython.core.display.Markdown object>"
      ]
     },
     "metadata": {},
     "output_type": "display_data"
    },
    {
     "data": {
      "text/markdown": [
       "<span style='color:#ce00ce'>campaign:</span>"
      ],
      "text/plain": [
       "<IPython.core.display.Markdown object>"
      ]
     },
     "metadata": {},
     "output_type": "display_data"
    },
    {
     "data": {
      "text/markdown": [
       "<span style='color:#ffffff'>[1, 2, 3, 4, 5, 6, 7, 9, 8, 19, 14, 10, 22, 32, 11, 13, 16, 25, 12, 51, 15, 18, 38, 24, 28, 21, 17, 31, 30, 20, 29, 26, 27, 33, 23, 39, 34, 35, 43, 55, 50, 46, 41, 36, 63, 37, 58, 44]</span>"
      ],
      "text/plain": [
       "<IPython.core.display.Markdown object>"
      ]
     },
     "metadata": {},
     "output_type": "display_data"
    },
    {
     "data": {
      "text/markdown": [
       "<span style='color:#ce00ce'><br></span>"
      ],
      "text/plain": [
       "<IPython.core.display.Markdown object>"
      ]
     },
     "metadata": {},
     "output_type": "display_data"
    },
    {
     "data": {
      "text/markdown": [
       "<span style='color:#ce00ce'>pdays:</span>"
      ],
      "text/plain": [
       "<IPython.core.display.Markdown object>"
      ]
     },
     "metadata": {},
     "output_type": "display_data"
    },
    {
     "data": {
      "text/markdown": [
       "<span style='color:#ffffff'>[-1, 98, 168, 416, 188, 528, 87, 91, 88, 175, 66, 89, 83, 80, 90, 181, 15, 13, 169, 177, 295, 367, 271, 256, 350, 176, 370, 356, 322, 294, 304, 178, 298, 93, 101, 103, 97, 285, 99, 100, 92, 195, 211, 94, 53, 182, 50, 387, 179, 391, 36, 95, 347, 84, 96, 67, 82, 120, 113, 85, 72, 104, 278, 140, 186, 224, 377, 183, 185, 107, 142, 63, 165, 393, 65, 77, 395, 399, 61, 78, 405, 128, 422, 155, 424, 251, 433, 342, 259, 148, 184, 64, 131, 102, 106, 112, 461, 190, 191, 79, 68, 105, 462, 428, 193, 116, 283, 392, 272, 1, 180, 31, 121, 119, 122, 109, 60, 208, 194, 213, 503, 111, 541, 159, 150, 110, 7, 174, 27, 171, 189, 29, 160, 187, 275, 196, 200, 390, 57, 33, 230, 242, 210, 197, 220, 201, 204, 287, 357, 262, 561, 555, 199, 152, 281, 326, 70, 321, 229, 291, 337, 265, 141, 147, 274, 248, 173, 86, 6, 9, 108, 206, 348, 143, 202, 476, 37, 466, 432, 427, 216, 246, 469, 771, 409, 232, 76, 4, 333, 75, 354, 319, 334, 167, 288, 280, 14, 172, 305, 363, 306, 300, 263, 301, 364, 331, 293, 344, 358, 346, 359, 352, 360, 74, 336, 349, 308, 42, 212, 114, 71, 55, 365, 328, 279, 81, 404, 130, 134, 385, 386, 417, 371, 239, 407, 458, 481, 156, 459, 463, 403, 454, 410, 475, 446, 2, 472, 651, 241, 266, 192, 149, 284, 164, 26, 28, 124, 5, 117, 378, 374, 22, 550, 127, 126, 198, 315, 203, 257, 209, 247, 225, 205, 282, 269, 73, 253, 48, 260, 388, 238, 302, 290, 421, 139, 138, 163, 146, 314, 345, 340, 118, 398, 41, 254, 373, 166, 335, 389, 277, 40, 231, 226, 297, 133, 154, 351, 338, 299, 362, 361, 135, 425, 456, 309, 39, 320, 311, 369, 535, 355, 343, 366, 270, 341, 292, 258, 286, 307, 330, 303, 353, 332, 35, 43, 243, 551, 38, 20, 207, 56, 376, 318, 144, 153, 756, 158, 532, 215, 701, 445, 491, 431, 69, 267, 455, 129, 3, 761, 115, 136, 520, 485, 420, 151, 137, 508, 123, 170, 125, 250, 268, 237, 255, 235, 161, 264, 233, 234, 8, 261, 12, 252, 219, 49, 585, 480, 276, 249, 289, 325, 324, 316, 339, 245, 25, 426, 452, 449, 44, 478, 760, 490, 484, 62, 486, 47, 296, 368, 327, 372, 273, 329, 670, 17, 384, 396, 412, 244, 792, 782, 58, 805, 145, 132, 511, 530, 313, 223, 240, 228, 436, 222, 217, 236, 558, 467, 323, 317, 24, 46, 656, 504, 831, 524, 838, 778, 312, 687, 430, 457, 381, 310, 775, 375, 59, 18, 21, 10, 414, 557, 686, 227, 674, 521, 439, 419, 440, 394, 51, 397, 379, 401, 474, 54, 717, 728, 518, 772, 774, 500, 616, 804, 547, 162, 157, 30, 214, 871, 218, 544, 435, 667, 595, 380, 479, 45, 464, 465, 221, 769, 587, 854, 850, 589, 779, 680, 19, 460, 32, 52, 578, 586, 411, 450, 434, 514, 515, 776, 529, 415, 413, 784, 383, 442, 477, 470, 437, 828, 562, 492, 495, 808, 690, 826, 543, 536, 553, 592, 626, 648, 633, 579, 493, 655, 749, 594, 842, 603, 489, 444, 683, 542, 34, 745, 791, 531, 382, 526]</span>"
      ],
      "text/plain": [
       "<IPython.core.display.Markdown object>"
      ]
     },
     "metadata": {},
     "output_type": "display_data"
    },
    {
     "data": {
      "text/markdown": [
       "<span style='color:#ce00ce'><br></span>"
      ],
      "text/plain": [
       "<IPython.core.display.Markdown object>"
      ]
     },
     "metadata": {},
     "output_type": "display_data"
    },
    {
     "data": {
      "text/markdown": [
       "<span style='color:#ce00ce'>previous:</span>"
      ],
      "text/plain": [
       "<IPython.core.display.Markdown object>"
      ]
     },
     "metadata": {},
     "output_type": "display_data"
    },
    {
     "data": {
      "text/markdown": [
       "<span style='color:#ffffff'>[0, 1, 5, 2, 7, 3, 4, 9, 10, 12, 6, 8, 21, 14, 11, 28, 13, 22, 15, 17, 20, 29, 19, 18, 26, 23, 16, 275, 24, 27, 37, 40, 41, 30, 58, 25, 38, 35, 51, 32, 55]</span>"
      ],
      "text/plain": [
       "<IPython.core.display.Markdown object>"
      ]
     },
     "metadata": {},
     "output_type": "display_data"
    },
    {
     "data": {
      "text/markdown": [
       "<span style='color:#ce00ce'><br></span>"
      ],
      "text/plain": [
       "<IPython.core.display.Markdown object>"
      ]
     },
     "metadata": {},
     "output_type": "display_data"
    },
    {
     "data": {
      "text/markdown": [
       "<span style='color:#ce00ce'>y:</span>"
      ],
      "text/plain": [
       "<IPython.core.display.Markdown object>"
      ]
     },
     "metadata": {},
     "output_type": "display_data"
    },
    {
     "data": {
      "text/markdown": [
       "<span style='color:#ffffff'>[0, 1]</span>"
      ],
      "text/plain": [
       "<IPython.core.display.Markdown object>"
      ]
     },
     "metadata": {},
     "output_type": "display_data"
    },
    {
     "data": {
      "text/markdown": [
       "<span style='color:#ce00ce'><br></span>"
      ],
      "text/plain": [
       "<IPython.core.display.Markdown object>"
      ]
     },
     "metadata": {},
     "output_type": "display_data"
    },
    {
     "data": {
      "text/markdown": [
       "<span style='color:#ce00ce'>month_no:</span>"
      ],
      "text/plain": [
       "<IPython.core.display.Markdown object>"
      ]
     },
     "metadata": {},
     "output_type": "display_data"
    },
    {
     "data": {
      "text/markdown": [
       "<span style='color:#ffffff'>[5, 6, 7, 8, 10, 11, 12, 1, 2, 3, 4, 9]</span>"
      ],
      "text/plain": [
       "<IPython.core.display.Markdown object>"
      ]
     },
     "metadata": {},
     "output_type": "display_data"
    },
    {
     "data": {
      "text/markdown": [
       "<span style='color:#ce00ce'><br></span>"
      ],
      "text/plain": [
       "<IPython.core.display.Markdown object>"
      ]
     },
     "metadata": {},
     "output_type": "display_data"
    },
    {
     "data": {
      "text/markdown": [
       "<span style='color:#ce00ce'>edu:</span>"
      ],
      "text/plain": [
       "<IPython.core.display.Markdown object>"
      ]
     },
     "metadata": {},
     "output_type": "display_data"
    },
    {
     "data": {
      "text/markdown": [
       "<span style='color:#ffffff'>[1.0, 2.0, 3.0, nan]</span>"
      ],
      "text/plain": [
       "<IPython.core.display.Markdown object>"
      ]
     },
     "metadata": {},
     "output_type": "display_data"
    },
    {
     "data": {
      "text/markdown": [
       "<span style='color:#ce00ce'><br></span>"
      ],
      "text/plain": [
       "<IPython.core.display.Markdown object>"
      ]
     },
     "metadata": {},
     "output_type": "display_data"
    },
    {
     "data": {
      "text/markdown": [
       "<span style='color:#ce00ce'>prev_out:</span>"
      ],
      "text/plain": [
       "<IPython.core.display.Markdown object>"
      ]
     },
     "metadata": {},
     "output_type": "display_data"
    },
    {
     "data": {
      "text/markdown": [
       "<span style='color:#ffffff'>[0.0, 1.0, nan, -1.0]</span>"
      ],
      "text/plain": [
       "<IPython.core.display.Markdown object>"
      ]
     },
     "metadata": {},
     "output_type": "display_data"
    },
    {
     "data": {
      "text/markdown": [
       "<span style='color:#ce00ce'><br></span>"
      ],
      "text/plain": [
       "<IPython.core.display.Markdown object>"
      ]
     },
     "metadata": {},
     "output_type": "display_data"
    },
    {
     "data": {
      "text/markdown": [
       "<span style='color:#ce00ce'>marital_divorced:</span>"
      ],
      "text/plain": [
       "<IPython.core.display.Markdown object>"
      ]
     },
     "metadata": {},
     "output_type": "display_data"
    },
    {
     "data": {
      "text/markdown": [
       "<span style='color:#ffffff'>[0, 1]</span>"
      ],
      "text/plain": [
       "<IPython.core.display.Markdown object>"
      ]
     },
     "metadata": {},
     "output_type": "display_data"
    },
    {
     "data": {
      "text/markdown": [
       "<span style='color:#ce00ce'><br></span>"
      ],
      "text/plain": [
       "<IPython.core.display.Markdown object>"
      ]
     },
     "metadata": {},
     "output_type": "display_data"
    },
    {
     "data": {
      "text/markdown": [
       "<span style='color:#ce00ce'>marital_married:</span>"
      ],
      "text/plain": [
       "<IPython.core.display.Markdown object>"
      ]
     },
     "metadata": {},
     "output_type": "display_data"
    },
    {
     "data": {
      "text/markdown": [
       "<span style='color:#ffffff'>[1, 0]</span>"
      ],
      "text/plain": [
       "<IPython.core.display.Markdown object>"
      ]
     },
     "metadata": {},
     "output_type": "display_data"
    },
    {
     "data": {
      "text/markdown": [
       "<span style='color:#ce00ce'><br></span>"
      ],
      "text/plain": [
       "<IPython.core.display.Markdown object>"
      ]
     },
     "metadata": {},
     "output_type": "display_data"
    },
    {
     "data": {
      "text/markdown": [
       "<span style='color:#ce00ce'>marital_single:</span>"
      ],
      "text/plain": [
       "<IPython.core.display.Markdown object>"
      ]
     },
     "metadata": {},
     "output_type": "display_data"
    },
    {
     "data": {
      "text/markdown": [
       "<span style='color:#ffffff'>[0, 1]</span>"
      ],
      "text/plain": [
       "<IPython.core.display.Markdown object>"
      ]
     },
     "metadata": {},
     "output_type": "display_data"
    },
    {
     "data": {
      "text/markdown": [
       "<span style='color:#ce00ce'><br></span>"
      ],
      "text/plain": [
       "<IPython.core.display.Markdown object>"
      ]
     },
     "metadata": {},
     "output_type": "display_data"
    },
    {
     "data": {
      "text/markdown": [
       "<span style='color:#ce00ce'>contact_cellular:</span>"
      ],
      "text/plain": [
       "<IPython.core.display.Markdown object>"
      ]
     },
     "metadata": {},
     "output_type": "display_data"
    },
    {
     "data": {
      "text/markdown": [
       "<span style='color:#ffffff'>[0, 1]</span>"
      ],
      "text/plain": [
       "<IPython.core.display.Markdown object>"
      ]
     },
     "metadata": {},
     "output_type": "display_data"
    },
    {
     "data": {
      "text/markdown": [
       "<span style='color:#ce00ce'><br></span>"
      ],
      "text/plain": [
       "<IPython.core.display.Markdown object>"
      ]
     },
     "metadata": {},
     "output_type": "display_data"
    },
    {
     "data": {
      "text/markdown": [
       "<span style='color:#ce00ce'>contact_telephone:</span>"
      ],
      "text/plain": [
       "<IPython.core.display.Markdown object>"
      ]
     },
     "metadata": {},
     "output_type": "display_data"
    },
    {
     "data": {
      "text/markdown": [
       "<span style='color:#ffffff'>[0, 1]</span>"
      ],
      "text/plain": [
       "<IPython.core.display.Markdown object>"
      ]
     },
     "metadata": {},
     "output_type": "display_data"
    },
    {
     "data": {
      "text/markdown": [
       "<span style='color:#ce00ce'><br></span>"
      ],
      "text/plain": [
       "<IPython.core.display.Markdown object>"
      ]
     },
     "metadata": {},
     "output_type": "display_data"
    },
    {
     "data": {
      "text/markdown": [
       "<span style='color:#ce00ce'>contact_unknown:</span>"
      ],
      "text/plain": [
       "<IPython.core.display.Markdown object>"
      ]
     },
     "metadata": {},
     "output_type": "display_data"
    },
    {
     "data": {
      "text/markdown": [
       "<span style='color:#ffffff'>[1, 0]</span>"
      ],
      "text/plain": [
       "<IPython.core.display.Markdown object>"
      ]
     },
     "metadata": {},
     "output_type": "display_data"
    },
    {
     "data": {
      "text/markdown": [
       "<span style='color:#ce00ce'><br></span>"
      ],
      "text/plain": [
       "<IPython.core.display.Markdown object>"
      ]
     },
     "metadata": {},
     "output_type": "display_data"
    }
   ],
   "source": [
    "def whatDoIHave(df):\n",
    "    for i in df.columns:\n",
    "        printmd('{}:'.format(i))\n",
    "        printmd(\"{}\".format([i for i in (eval('df.{}.unique()'.format(i)))]), '#ffffff')\n",
    "        printmd('<br>')\n",
    "\n",
    "whatDoIHave(bank_dummies)"
   ]
  },
  {
   "cell_type": "code",
   "execution_count": null,
   "metadata": {},
   "outputs": [],
   "source": []
  }
 ],
 "metadata": {
  "kernelspec": {
   "display_name": "Python 3",
   "language": "python",
   "name": "python3"
  },
  "language_info": {
   "codemirror_mode": {
    "name": "ipython",
    "version": 3
   },
   "file_extension": ".py",
   "mimetype": "text/x-python",
   "name": "python",
   "nbconvert_exporter": "python",
   "pygments_lexer": "ipython3",
   "version": "3.7.2"
  }
 },
 "nbformat": 4,
 "nbformat_minor": 2
}
